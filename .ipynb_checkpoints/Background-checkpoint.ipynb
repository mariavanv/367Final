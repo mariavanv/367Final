{
 "cells": [
  {
   "cell_type": "markdown",
   "id": "64f75fda-05c7-4ff4-bf09-1d44e6a4260a",
   "metadata": {},
   "source": [
    "# Background: Marine Debris Cleanup\n",
    "### Maria van Venrooy"
   ]
  },
  {
   "cell_type": "markdown",
   "id": "c173b169-962d-4f37-8c49-4b5652533651",
   "metadata": {},
   "source": [
    "## Societal Problem: Litter pollution of Waterways. \n",
    "\n",
    "Plastic and other debris in our waterways and oceans negatively affects the health of our planet and its plant and animal inhabitants (including us). By better understanding the problem of marine debris, we will be better equiped to deal with it."
   ]
  },
  {
   "cell_type": "markdown",
   "id": "a2b1fecf-c266-470e-9fd2-04708d4a3773",
   "metadata": {},
   "source": [
    "## Background\n",
    "\n",
    "Negative Effects of Plastic pollution Include:\n",
    "- Plastic blocks storm drains, impeding the flow of water\n",
    "- Plastic pollution is detrimental to human health\n",
    "- Harmful to animals when consumed accidentally\n",
    "- Areas with large amounts of plastic waste are unattractive to tourists\n",
    "- Plastic doesn't degrade, it just breaks apart and creates \"micro plastics\", which get ingested by fish and other marine life, and continue to make their way up the foodchain \n",
    "\n",
    "Sources: \n",
    "- https://thewatershed.org/how-does-plastic-pollution-harm-water/\n",
    "- https://www.eartheclipse.com/pollution/fatal-effects-of-plastic-pollution.html"
   ]
  },
  {
   "cell_type": "markdown",
   "id": "75d950c0-cfb7-4bc8-bafe-f7f088f7f9cd",
   "metadata": {},
   "source": [
    "## Research Questions + Justification\n",
    "\n",
    "In this project I plan to explore the \"Marine Litter Watch\" dataset to better understand trends in what kind of debris is found on different types of beaches (Sandy vs. Rocky vs. Other). The type of beach depends of the energy of the waves that hit the beach, so I could see this having a significant impact on the kind of debris found (https://www.howitworksdaily.com/why-do-some-beaches-have-sand-and-others-have-pebbles/#:~:text=Higher%2Denergy%20beaches%20are%20often,as%20pebbles%20or%20even%20boulders.&text=The%20chalk%20is%20dissolved%20in,gives%20us%20the%20pebbly%20beaches)  I think this data could be useful, as it could lead to more effective cleanups. For example, if rocky beaches tend to have more large debris, like tires and boat parts, different equipment may be more effective than what you would use to collect and dispose of small pieces of debris like plastic bottles and grocery bags. \n",
    "\n",
    "\n",
    "Additionally, I would like to see if the COVID-19 pandemic affected the amount or type of debris found, as this dataset includes data from 2013 until January of 2021. The COVid-19 pandemic has greatly influenced consumer habits (https://www.ncbi.nlm.nih.gov/pmc/articles/PMC7269931/#:~:text=The%20COVID%2D19%20pandemic%20and,the%20store%20comes%20to%20home) .If there is a correlation between the pandemic and marine debris, we may be able to draw conclusions about how and how fast human activity affects marine debris. One particular scenario I'm interested in exploring is the Debris found in Italy, since they had a very serious lockdown from March to May of 2020 (https://en.wikipedia.org/wiki/COVID-19_lockdown_in_Italy)."
   ]
  },
  {
   "cell_type": "markdown",
   "id": "90dfc3ed-7d52-4dcd-9cbf-3619cb023beb",
   "metadata": {},
   "source": [
    "\n",
    "## Dataset\n",
    "Source: https://www.kaggle.com/maartenvandevelde/marine-litter-watch-19502021\n",
    "This data set is titled \"Marine Litter Watch: Litter on the beach - Plastic pollution washed up on the beaches across Europe!\". This data set is similar to the one I used for my midterm project (Delaware Coastal Cleanup Results), in that it catalogs the amounts of different debris and trash found during cleanup events. This data is different, however, in that it covers cleanups all across Europe, and that cleanups occured at different times during the year (As opposed to a yearly September cleanup). "
   ]
  },
  {
   "cell_type": "markdown",
   "id": "f4d6dad4-5597-430e-9c15-e308fd6f12ff",
   "metadata": {},
   "source": [
    "## Ethical Concerns\n",
    "\n",
    "An ethical concern of researching how trash accumulates differently on different types of beaches (sandy vs rocky) could potentially result in a specific type of beach being neglected in order to focus on the other type. For example, if it is found that rocky beaches collect mainly large and hard-to-remove debris, people may be hesitant to volunteer to help clean those beaches.\n",
    "\n",
    "The ethical concerns around looking at the correlation between COVID-19 and marine debris are more complicated. It has already been shown that the pandemic and resulting stay-at-home orders have slowed consumption and reduced greenhouse gas emissions (https://www.nature.com/articles/s41558-020-0797-x). If it turns out that the pandemic has lead to the positive outcome of less marine debris, this information could lead to the promotion of more lockdowns and reduced social activities, which have proven to be detrimental to many peoples' mental health (https://www.kff.org/coronavirus-covid-19/issue-brief/the-implications-of-covid-19-for-mental-health-and-substance-use/)\n"
   ]
  },
  {
   "cell_type": "code",
   "execution_count": null,
   "id": "d975ad4c-569b-4ba1-9c84-9cf01431f475",
   "metadata": {},
   "outputs": [],
   "source": []
  }
 ],
 "metadata": {
  "kernelspec": {
   "display_name": "Python 3",
   "language": "python",
   "name": "python3"
  },
  "language_info": {
   "codemirror_mode": {
    "name": "ipython",
    "version": 3
   },
   "file_extension": ".py",
   "mimetype": "text/x-python",
   "name": "python",
   "nbconvert_exporter": "python",
   "pygments_lexer": "ipython3",
   "version": "3.9.1"
  }
 },
 "nbformat": 4,
 "nbformat_minor": 5
}
