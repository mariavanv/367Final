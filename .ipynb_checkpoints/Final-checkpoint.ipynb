{
 "cells": [
  {
   "cell_type": "markdown",
   "id": "5d6a8524-d600-4a8a-be48-903b49b21c05",
   "metadata": {},
   "source": [
    "# Beach Debris Exploration\n",
    "### CISC367 Final Project - Maria van Venrooy"
   ]
  },
  {
   "cell_type": "markdown",
   "id": "8f60f86c-5ec3-42d0-bc60-e196fa7bc827",
   "metadata": {},
   "source": [
    "## Societal Problem: Overconsumption and Resulting Litter Pollution\n",
    "\n",
    "The introduction of synthetic plastic was groundbreaking for human manufacturing. Instead of being dependent on nature for building materials (wood, stone, metal, etc), humans could now create their own. According to sciencehistory.org, \"The possibilities of plastics gave some observers an almost utopian vision of a future with abundant material wealth thanks to an inexpensive, safe, sanitary substance that could be shaped by humans to their every whim\" (1). \n",
    "\n",
    "Plastic production hase been steadily increasing for decades. In 1950, 1.5 million metric tons of plastic were produced. In 2019, the amount of plastic produced increased more than 200-fold to 368 million metric tons (2). One of plastic's most valuable features, its durability, quickly made plastic a nuissance. In the 1960s, plastic debris was first observed in the oceans (1). \n",
    "\n",
    "Today, there are more than 5.25 trillion pieces of plastic in the ocean - about 46,000 pieces per square mile (3). An estimated 8 million pieces of plastic make their way into the oceans every single day (3). And this plastic is not going away any time soon - the EPA reports that all the plastic that has ever been made still exists today (7).\n"
   ]
  },
  {
   "cell_type": "markdown",
   "id": "efd368d3-f059-4b5b-b32e-13fbc45e93d8",
   "metadata": {},
   "source": [
    "## Problem Justification: Negative Consequences of Plastic Pollution\n",
    "\n",
    "#### Microplastics - extremely small pieces of plastic\n",
    "Plastic pollution affects nearly all life on the planet, from microscopic zooplankton(4) to hundred-ton blue whales (5). When zooplankton consume microplastics, it never decomposes, and so remains in the zooplankton's system for its entire lifespan. When the zooplankton is consumed by other marine creatures, the plastic starts to accumulate in those creatures, and so on as the plastic moves up the food chain (4). Humans end up consuming plastic when they eat salmon, tuna, and other fish with plastic in their muscle tissue (6). Frighteningly, researchers don't know very much about the effects of ingesting plastic on fish on humans (6).\n",
    "\n",
    "#### Larger Plastics\n",
    "Microplastics aren't the only kind of plastic that are wreaking havoc on the environment. Thousands of animals, including seabirds, sea turtles, and seals are killed each year from ingesting or getting caught in plastic litter, and many more are seriously injured (7). \n"
   ]
  },
  {
   "cell_type": "markdown",
   "id": "b30bdc39-fb98-444c-8489-2f849b6af65f",
   "metadata": {},
   "source": [
    "## Research Questions\n",
    "\n",
    "\n",
    "#### Have the COVID-19 Pandemic and associated lockdowns affected the type and/or amount of litter and debris found on beaches?\n",
    "\n",
    "The COVID-19 pandemic has greatly influenced consumer habits (9). If there is a correlation between the pandemic and marine debris, we may be able to draw conclusions about how and how fast human activity affects marine debris. \n",
    "\n",
    "\n",
    "#### Does the type of beach (sandy vs. rocky vs. pebbles) affect the type and amount of litter and debris found?\n",
    "\n",
    "The type of beach depends of the energy of the waves that hit the beach, so this could have a significant impact on the kind of debris found (8). Answering this question could be useful, as it could lead to more effective cleanups. For example, if rocky beaches tend to have more large debris, like tires and boat parts, different equipment may be more effective than what you would use to collect and dispose of small pieces of debris like plastic bottles and grocery bags. I will be looking into two specific factors: size of debris, and type of debris (plastic vs textiles vs rubber, etc).\n",
    "\n",
    "\n"
   ]
  },
  {
   "cell_type": "markdown",
   "id": "1d71bb47-8c8b-4cf7-8255-9db7c646366e",
   "metadata": {},
   "source": [
    "## Datasets\n",
    "\n",
    "The data set used is from [*Marine Litter Watch: Litter on the beach*](https://www.kaggle.com/maartenvandevelde/marine-litter-watch-19502021). This dataset is broken into 2 csvs: \"MLW_Data.csv\" and \"MLW_Meta.csv\". The Data csv file contains statistics from beach cleanups and monitoring visits on different dates and in different locations. Each cleanup or monitoring visit is a row, and contains the date of the visit, the beach type, the location, and the quantities of different types of items found. Columns that begin with a \"G\" followed by a number each represent a specific type of item, for example shopping bags, drink bottles, cardboard boxes, etc. The Meta csv tells us what each of the G-number codes represent."
   ]
  },
  {
   "cell_type": "markdown",
   "id": "b6c96a2d-a256-4902-8789-e57a1e8a4ff1",
   "metadata": {},
   "source": [
    "## Data Exploration"
   ]
  },
  {
   "cell_type": "code",
   "execution_count": 2,
   "id": "add1e806-54ba-43f5-a1a9-209eb2d98aac",
   "metadata": {},
   "outputs": [
    {
     "data": {
      "text/html": [
       "<div>\n",
       "<style scoped>\n",
       "    .dataframe tbody tr th:only-of-type {\n",
       "        vertical-align: middle;\n",
       "    }\n",
       "\n",
       "    .dataframe tbody tr th {\n",
       "        vertical-align: top;\n",
       "    }\n",
       "\n",
       "    .dataframe thead th {\n",
       "        text-align: right;\n",
       "    }\n",
       "</style>\n",
       "<table border=\"1\" class=\"dataframe\">\n",
       "  <thead>\n",
       "    <tr style=\"text-align: right;\">\n",
       "      <th></th>\n",
       "      <th>CommunityName</th>\n",
       "      <th>BeachName</th>\n",
       "      <th>BeachCountrycode</th>\n",
       "      <th>BeachRegionalSea</th>\n",
       "      <th>BeachLength_m</th>\n",
       "      <th>BeachLocation</th>\n",
       "      <th>BeachType</th>\n",
       "      <th>EventDate</th>\n",
       "      <th>EventType</th>\n",
       "      <th>NatRef</th>\n",
       "      <th>...</th>\n",
       "      <th>G202</th>\n",
       "      <th>G203</th>\n",
       "      <th>G204</th>\n",
       "      <th>G205</th>\n",
       "      <th>G206</th>\n",
       "      <th>G207</th>\n",
       "      <th>G208</th>\n",
       "      <th>G210</th>\n",
       "      <th>G211</th>\n",
       "      <th>G213</th>\n",
       "    </tr>\n",
       "  </thead>\n",
       "  <tbody>\n",
       "    <tr>\n",
       "      <th>0</th>\n",
       "      <td>gBqsPxAZ</td>\n",
       "      <td>krapetz</td>\n",
       "      <td>BG</td>\n",
       "      <td>Black Sea</td>\n",
       "      <td>5850</td>\n",
       "      <td>Rural</td>\n",
       "      <td>Sandy</td>\n",
       "      <td>20160310</td>\n",
       "      <td>Cleanup</td>\n",
       "      <td>NaN</td>\n",
       "      <td>...</td>\n",
       "      <td>2.0</td>\n",
       "      <td>4.0</td>\n",
       "      <td>NaN</td>\n",
       "      <td>3.0</td>\n",
       "      <td>NaN</td>\n",
       "      <td>NaN</td>\n",
       "      <td>3.0</td>\n",
       "      <td>NaN</td>\n",
       "      <td>1.0</td>\n",
       "      <td>NaN</td>\n",
       "    </tr>\n",
       "    <tr>\n",
       "      <th>1</th>\n",
       "      <td>gBqsPxAZ</td>\n",
       "      <td>krapetz</td>\n",
       "      <td>BG</td>\n",
       "      <td>Black Sea</td>\n",
       "      <td>5850</td>\n",
       "      <td>Rural</td>\n",
       "      <td>Sandy</td>\n",
       "      <td>20150902</td>\n",
       "      <td>Cleanup</td>\n",
       "      <td>NaN</td>\n",
       "      <td>...</td>\n",
       "      <td>1.0</td>\n",
       "      <td>NaN</td>\n",
       "      <td>2.0</td>\n",
       "      <td>NaN</td>\n",
       "      <td>NaN</td>\n",
       "      <td>NaN</td>\n",
       "      <td>7.0</td>\n",
       "      <td>3.0</td>\n",
       "      <td>NaN</td>\n",
       "      <td>NaN</td>\n",
       "    </tr>\n",
       "    <tr>\n",
       "      <th>2</th>\n",
       "      <td>gBqsPxAZ</td>\n",
       "      <td>krapetz</td>\n",
       "      <td>BG</td>\n",
       "      <td>Black Sea</td>\n",
       "      <td>5850</td>\n",
       "      <td>Rural</td>\n",
       "      <td>Sandy</td>\n",
       "      <td>20151203</td>\n",
       "      <td>Cleanup</td>\n",
       "      <td>NaN</td>\n",
       "      <td>...</td>\n",
       "      <td>NaN</td>\n",
       "      <td>NaN</td>\n",
       "      <td>5.0</td>\n",
       "      <td>NaN</td>\n",
       "      <td>NaN</td>\n",
       "      <td>NaN</td>\n",
       "      <td>2.0</td>\n",
       "      <td>NaN</td>\n",
       "      <td>2.0</td>\n",
       "      <td>1.0</td>\n",
       "    </tr>\n",
       "    <tr>\n",
       "      <th>3</th>\n",
       "      <td>gBqsPxAZ</td>\n",
       "      <td>krapetz</td>\n",
       "      <td>BG</td>\n",
       "      <td>Black Sea</td>\n",
       "      <td>5850</td>\n",
       "      <td>Rural</td>\n",
       "      <td>Sandy</td>\n",
       "      <td>20151008</td>\n",
       "      <td>Cleanup</td>\n",
       "      <td>NaN</td>\n",
       "      <td>...</td>\n",
       "      <td>5.0</td>\n",
       "      <td>NaN</td>\n",
       "      <td>2.0</td>\n",
       "      <td>NaN</td>\n",
       "      <td>NaN</td>\n",
       "      <td>NaN</td>\n",
       "      <td>5.0</td>\n",
       "      <td>26.0</td>\n",
       "      <td>NaN</td>\n",
       "      <td>NaN</td>\n",
       "    </tr>\n",
       "    <tr>\n",
       "      <th>4</th>\n",
       "      <td>Legambiente Onlus</td>\n",
       "      <td>San Mauro Cilento (SA)</td>\n",
       "      <td>IT</td>\n",
       "      <td>Unknown</td>\n",
       "      <td>100</td>\n",
       "      <td>NaN</td>\n",
       "      <td>NaN</td>\n",
       "      <td>20180428</td>\n",
       "      <td>Monitoring</td>\n",
       "      <td>NaN</td>\n",
       "      <td>...</td>\n",
       "      <td>NaN</td>\n",
       "      <td>NaN</td>\n",
       "      <td>NaN</td>\n",
       "      <td>NaN</td>\n",
       "      <td>NaN</td>\n",
       "      <td>NaN</td>\n",
       "      <td>3.0</td>\n",
       "      <td>NaN</td>\n",
       "      <td>2.0</td>\n",
       "      <td>NaN</td>\n",
       "    </tr>\n",
       "  </tbody>\n",
       "</table>\n",
       "<p>5 rows × 176 columns</p>\n",
       "</div>"
      ],
      "text/plain": [
       "       CommunityName               BeachName BeachCountrycode  \\\n",
       "0           gBqsPxAZ                 krapetz               BG   \n",
       "1           gBqsPxAZ                 krapetz               BG   \n",
       "2           gBqsPxAZ                 krapetz               BG   \n",
       "3           gBqsPxAZ                 krapetz               BG   \n",
       "4  Legambiente Onlus  San Mauro Cilento (SA)               IT   \n",
       "\n",
       "  BeachRegionalSea  BeachLength_m BeachLocation BeachType  EventDate  \\\n",
       "0        Black Sea           5850         Rural     Sandy   20160310   \n",
       "1        Black Sea           5850         Rural     Sandy   20150902   \n",
       "2        Black Sea           5850         Rural     Sandy   20151203   \n",
       "3        Black Sea           5850         Rural     Sandy   20151008   \n",
       "4          Unknown            100           NaN       NaN   20180428   \n",
       "\n",
       "    EventType NatRef  ...  G202  G203  G204  G205  G206  G207  G208  G210  \\\n",
       "0     Cleanup    NaN  ...   2.0   4.0   NaN   3.0   NaN   NaN   3.0   NaN   \n",
       "1     Cleanup    NaN  ...   1.0   NaN   2.0   NaN   NaN   NaN   7.0   3.0   \n",
       "2     Cleanup    NaN  ...   NaN   NaN   5.0   NaN   NaN   NaN   2.0   NaN   \n",
       "3     Cleanup    NaN  ...   5.0   NaN   2.0   NaN   NaN   NaN   5.0  26.0   \n",
       "4  Monitoring    NaN  ...   NaN   NaN   NaN   NaN   NaN   NaN   3.0   NaN   \n",
       "\n",
       "   G211  G213  \n",
       "0   1.0   NaN  \n",
       "1   NaN   NaN  \n",
       "2   2.0   1.0  \n",
       "3   NaN   NaN  \n",
       "4   2.0   NaN  \n",
       "\n",
       "[5 rows x 176 columns]"
      ]
     },
     "execution_count": 2,
     "metadata": {},
     "output_type": "execute_result"
    }
   ],
   "source": [
    "#Imports, and getting a look at the Data csv\n",
    "\n",
    "import pandas as pd \n",
    "import numpy as np\n",
    "import matplotlib.pyplot as plt\n",
    "pd.options.mode.chained_assignment = None  # suppress some warnings \n",
    "\n",
    "\n",
    "df = pd.read_csv(\"MLW_Data.csv\") \n",
    "\n",
    "df.head()"
   ]
  },
  {
   "cell_type": "markdown",
   "id": "1d60568b-c2c5-4f7b-a9fc-a300e984d1be",
   "metadata": {},
   "source": [
    "## General Dataset Info"
   ]
  },
  {
   "cell_type": "code",
   "execution_count": 3,
   "id": "c9cc4956-ee88-4dd0-b3e4-409eab2c7b3d",
   "metadata": {},
   "outputs": [
    {
     "data": {
      "text/html": [
       "<div>\n",
       "<style scoped>\n",
       "    .dataframe tbody tr th:only-of-type {\n",
       "        vertical-align: middle;\n",
       "    }\n",
       "\n",
       "    .dataframe tbody tr th {\n",
       "        vertical-align: top;\n",
       "    }\n",
       "\n",
       "    .dataframe thead th {\n",
       "        text-align: right;\n",
       "    }\n",
       "</style>\n",
       "<table border=\"1\" class=\"dataframe\">\n",
       "  <thead>\n",
       "    <tr style=\"text-align: right;\">\n",
       "      <th></th>\n",
       "      <th>generalcode</th>\n",
       "      <th>category</th>\n",
       "      <th>generalname</th>\n",
       "    </tr>\n",
       "  </thead>\n",
       "  <tbody>\n",
       "    <tr>\n",
       "      <th>0</th>\n",
       "      <td>G1</td>\n",
       "      <td>Plastic</td>\n",
       "      <td>4/6-pack yokes, six-pack rings</td>\n",
       "    </tr>\n",
       "    <tr>\n",
       "      <th>1</th>\n",
       "      <td>G3</td>\n",
       "      <td>Plastic</td>\n",
       "      <td>Shopping Bags  incl. pieces</td>\n",
       "    </tr>\n",
       "    <tr>\n",
       "      <th>2</th>\n",
       "      <td>G4</td>\n",
       "      <td>Plastic</td>\n",
       "      <td>Small plastic bags, e.g. freezer bags incl. pi...</td>\n",
       "    </tr>\n",
       "    <tr>\n",
       "      <th>3</th>\n",
       "      <td>G5</td>\n",
       "      <td>Plastic</td>\n",
       "      <td>Plastic bags collective role; what remains fro...</td>\n",
       "    </tr>\n",
       "    <tr>\n",
       "      <th>4</th>\n",
       "      <td>G7</td>\n",
       "      <td>Plastic</td>\n",
       "      <td>Drink bottles  &lt;=0.5l</td>\n",
       "    </tr>\n",
       "  </tbody>\n",
       "</table>\n",
       "</div>"
      ],
      "text/plain": [
       "  generalcode category                                        generalname\n",
       "0          G1  Plastic                    4/6-pack yokes, six-pack rings \n",
       "1          G3  Plastic                        Shopping Bags  incl. pieces\n",
       "2          G4  Plastic  Small plastic bags, e.g. freezer bags incl. pi...\n",
       "3          G5  Plastic  Plastic bags collective role; what remains fro...\n",
       "4          G7  Plastic                              Drink bottles  <=0.5l"
      ]
     },
     "execution_count": 3,
     "metadata": {},
     "output_type": "execute_result"
    }
   ],
   "source": [
    "# Let's look at the Meta csv\n",
    "\n",
    "metadf = pd.read_csv(\"MLW_Meta.csv\") \n",
    "metadf.head()\n"
   ]
  },
  {
   "cell_type": "markdown",
   "id": "0b155c7d-862f-4def-b7be-be1f5636565f",
   "metadata": {},
   "source": [
    "Here, some value counts to get an idea of what the data looks like"
   ]
  },
  {
   "cell_type": "code",
   "execution_count": 4,
   "id": "d545aa09-cb7d-4951-9419-35a97a185d43",
   "metadata": {},
   "outputs": [
    {
     "name": "stdout",
     "output_type": "stream",
     "text": [
      "Sandy            732\n",
      "Pebbels          398\n",
      "Other (mixed)    384\n",
      "Rocky            174\n",
      "Name: BeachType, dtype: int64\n"
     ]
    }
   ],
   "source": [
    "print(df[\"BeachType\"].value_counts())"
   ]
  },
  {
   "cell_type": "markdown",
   "id": "04a3b876-1dd3-40a4-98dd-ad224d16b961",
   "metadata": {},
   "source": [
    "The most common beach type visited was \"Sandy\", followed by \"Pebbels\", \"Other (mixed)\", and then \"Rocky\". The counts are all in the hundreds, so we should have enough data to compare the categories against each other"
   ]
  },
  {
   "cell_type": "code",
   "execution_count": 5,
   "id": "3ae5a73a-9c4a-48ae-88b4-d093df936dcc",
   "metadata": {},
   "outputs": [
    {
     "name": "stdout",
     "output_type": "stream",
     "text": [
      "Cleanup       2623\n",
      "Monitoring     790\n",
      "Name: EventType, dtype: int64\n"
     ]
    }
   ],
   "source": [
    "print(df[\"EventType\"].value_counts())"
   ]
  },
  {
   "cell_type": "markdown",
   "id": "dcc67b6f-d1f4-4eae-b9bb-d549a7809a73",
   "metadata": {},
   "source": [
    "The vast majority of the events were Cleanup events, where participants removed the found items. "
   ]
  },
  {
   "cell_type": "code",
   "execution_count": 6,
   "id": "beca3bdc-6ac3-43ca-82d6-98247d28d3d7",
   "metadata": {},
   "outputs": [
    {
     "data": {
      "image/png": "[encoded data removed]",
      "text/plain": [
       "<Figure size 432x288 with 1 Axes>"
      ]
     },
     "metadata": {
      "needs_background": "light"
     },
     "output_type": "display_data"
    }
   ],
   "source": [
    "df[\"EventYear\"] = df['EventDate'].astype(str).str[:4]\n",
    "\n",
    "yeardf = df.groupby(['EventYear']).size().reset_index()\n",
    "yeardf = yeardf.rename(columns={\"EventYear\": \"Year\", 0: \"Event Count\"})\n",
    "\n",
    "ax = yeardf.plot.bar(x='Year', y='Event Count', rot=0)"
   ]
  },
  {
   "cell_type": "markdown",
   "id": "3250bd41-71f2-42db-9c05-cd77fd3c74c5",
   "metadata": {},
   "source": [
    "Finding: dates range from 2013 to 2021, and 2017 is the year with the most cleanups"
   ]
  },
  {
   "cell_type": "code",
   "execution_count": 7,
   "id": "9b95f47f-6e5a-4cf5-a038-b739e50b6bff",
   "metadata": {},
   "outputs": [
    {
     "data": {
      "text/html": [
       "<div>\n",
       "<style scoped>\n",
       "    .dataframe tbody tr th:only-of-type {\n",
       "        vertical-align: middle;\n",
       "    }\n",
       "\n",
       "    .dataframe tbody tr th {\n",
       "        vertical-align: top;\n",
       "    }\n",
       "\n",
       "    .dataframe thead th {\n",
       "        text-align: right;\n",
       "    }\n",
       "</style>\n",
       "<table border=\"1\" class=\"dataframe\">\n",
       "  <thead>\n",
       "    <tr style=\"text-align: right;\">\n",
       "      <th></th>\n",
       "      <th>generalcode</th>\n",
       "      <th>category</th>\n",
       "      <th>generalname</th>\n",
       "    </tr>\n",
       "  </thead>\n",
       "  <tbody>\n",
       "    <tr>\n",
       "      <th>0</th>\n",
       "      <td>G1</td>\n",
       "      <td>Plastic</td>\n",
       "      <td>4/6-pack yokes, six-pack rings</td>\n",
       "    </tr>\n",
       "    <tr>\n",
       "      <th>1</th>\n",
       "      <td>G3</td>\n",
       "      <td>Plastic</td>\n",
       "      <td>Shopping Bags  incl. pieces</td>\n",
       "    </tr>\n",
       "    <tr>\n",
       "      <th>2</th>\n",
       "      <td>G4</td>\n",
       "      <td>Plastic</td>\n",
       "      <td>Small plastic bags, e.g. freezer bags incl. pi...</td>\n",
       "    </tr>\n",
       "    <tr>\n",
       "      <th>3</th>\n",
       "      <td>G5</td>\n",
       "      <td>Plastic</td>\n",
       "      <td>Plastic bags collective role; what remains fro...</td>\n",
       "    </tr>\n",
       "    <tr>\n",
       "      <th>4</th>\n",
       "      <td>G7</td>\n",
       "      <td>Plastic</td>\n",
       "      <td>Drink bottles  &lt;=0.5l</td>\n",
       "    </tr>\n",
       "    <tr>\n",
       "      <th>...</th>\n",
       "      <td>...</td>\n",
       "      <td>...</td>\n",
       "      <td>...</td>\n",
       "    </tr>\n",
       "    <tr>\n",
       "      <th>159</th>\n",
       "      <td>G210</td>\n",
       "      <td>Glass/ceramics</td>\n",
       "      <td>Other glass items</td>\n",
       "    </tr>\n",
       "    <tr>\n",
       "      <th>160</th>\n",
       "      <td>G211</td>\n",
       "      <td>unidentified</td>\n",
       "      <td>Other medical items (swabs, bandaging, adhesiv...</td>\n",
       "    </tr>\n",
       "    <tr>\n",
       "      <th>161</th>\n",
       "      <td>G213</td>\n",
       "      <td>Chemicals</td>\n",
       "      <td>Paraffin/Wax</td>\n",
       "    </tr>\n",
       "    <tr>\n",
       "      <th>162</th>\n",
       "      <td>G301</td>\n",
       "      <td>Cloth/textile</td>\n",
       "      <td>Disposable mask</td>\n",
       "    </tr>\n",
       "    <tr>\n",
       "      <th>163</th>\n",
       "      <td>G302</td>\n",
       "      <td>Cloth/textile</td>\n",
       "      <td>Disposable glove</td>\n",
       "    </tr>\n",
       "  </tbody>\n",
       "</table>\n",
       "<p>164 rows × 3 columns</p>\n",
       "</div>"
      ],
      "text/plain": [
       "    generalcode        category  \\\n",
       "0            G1         Plastic   \n",
       "1            G3         Plastic   \n",
       "2            G4         Plastic   \n",
       "3            G5         Plastic   \n",
       "4            G7         Plastic   \n",
       "..          ...             ...   \n",
       "159        G210  Glass/ceramics   \n",
       "160        G211    unidentified   \n",
       "161        G213       Chemicals   \n",
       "162        G301   Cloth/textile   \n",
       "163        G302   Cloth/textile   \n",
       "\n",
       "                                           generalname  \n",
       "0                      4/6-pack yokes, six-pack rings   \n",
       "1                          Shopping Bags  incl. pieces  \n",
       "2    Small plastic bags, e.g. freezer bags incl. pi...  \n",
       "3    Plastic bags collective role; what remains fro...  \n",
       "4                                Drink bottles  <=0.5l  \n",
       "..                                                 ...  \n",
       "159                                  Other glass items  \n",
       "160  Other medical items (swabs, bandaging, adhesiv...  \n",
       "161                                       Paraffin/Wax  \n",
       "162                                    Disposable mask  \n",
       "163                                   Disposable glove  \n",
       "\n",
       "[164 rows x 3 columns]"
      ]
     },
     "execution_count": 7,
     "metadata": {},
     "output_type": "execute_result"
    }
   ],
   "source": [
    "metadf"
   ]
  },
  {
   "cell_type": "markdown",
   "id": "58ca395e-30ae-448d-888f-572438b69ce2",
   "metadata": {},
   "source": [
    "Disposable mask and disposable glove are G301 and G302, respectively. I really wanted to see how the counts of these items changed over time, but unfortunately they are not included in the data csv."
   ]
  },
  {
   "cell_type": "code",
   "execution_count": 8,
   "id": "2826c455-9a2f-4605-a346-a93f2a561c8d",
   "metadata": {},
   "outputs": [
    {
     "data": {
      "text/plain": [
       "Plastic                  89\n",
       "Metal                    21\n",
       "Processed/worked wood    11\n",
       "Cloth/textile            11\n",
       "Glass/ceramics           10\n",
       "Paper/Cardboard          10\n",
       "Rubber                   10\n",
       "Chemicals                 1\n",
       "unidentified              1\n",
       "Name: category, dtype: int64"
      ]
     },
     "execution_count": 8,
     "metadata": {},
     "output_type": "execute_result"
    }
   ],
   "source": [
    "metadf[\"category\"].value_counts()"
   ]
  },
  {
   "cell_type": "markdown",
   "id": "50d61957-d21c-47f3-aa5a-71439da43a78",
   "metadata": {},
   "source": [
    "There are 89 different types of plastic categorized in the Meta csv, 21 different types of metal, and so on.\n",
    "\n",
    "## Pre & Post Covid: Separating out the Plastic\n",
    "\n",
    "**Question being addressed: Have the COVID-19 Pandemic and associated lockdowns affected the type and/or amount of litter and debris found on beaches?**\n",
    "\n",
    "Let's just look at the metadata for items in the \"Plastic\" category"
   ]
  },
  {
   "cell_type": "code",
   "execution_count": 9,
   "id": "08fd8fd9-c5b2-41ee-9bab-eaf1f6e52636",
   "metadata": {},
   "outputs": [
    {
     "data": {
      "text/html": [
       "<div>\n",
       "<style scoped>\n",
       "    .dataframe tbody tr th:only-of-type {\n",
       "        vertical-align: middle;\n",
       "    }\n",
       "\n",
       "    .dataframe tbody tr th {\n",
       "        vertical-align: top;\n",
       "    }\n",
       "\n",
       "    .dataframe thead th {\n",
       "        text-align: right;\n",
       "    }\n",
       "</style>\n",
       "<table border=\"1\" class=\"dataframe\">\n",
       "  <thead>\n",
       "    <tr style=\"text-align: right;\">\n",
       "      <th></th>\n",
       "      <th>generalcode</th>\n",
       "      <th>category</th>\n",
       "      <th>generalname</th>\n",
       "    </tr>\n",
       "  </thead>\n",
       "  <tbody>\n",
       "    <tr>\n",
       "      <th>0</th>\n",
       "      <td>G1</td>\n",
       "      <td>Plastic</td>\n",
       "      <td>4/6-pack yokes, six-pack rings</td>\n",
       "    </tr>\n",
       "    <tr>\n",
       "      <th>1</th>\n",
       "      <td>G3</td>\n",
       "      <td>Plastic</td>\n",
       "      <td>Shopping Bags  incl. pieces</td>\n",
       "    </tr>\n",
       "    <tr>\n",
       "      <th>2</th>\n",
       "      <td>G4</td>\n",
       "      <td>Plastic</td>\n",
       "      <td>Small plastic bags, e.g. freezer bags incl. pi...</td>\n",
       "    </tr>\n",
       "    <tr>\n",
       "      <th>3</th>\n",
       "      <td>G5</td>\n",
       "      <td>Plastic</td>\n",
       "      <td>Plastic bags collective role; what remains fro...</td>\n",
       "    </tr>\n",
       "    <tr>\n",
       "      <th>4</th>\n",
       "      <td>G7</td>\n",
       "      <td>Plastic</td>\n",
       "      <td>Drink bottles  &lt;=0.5l</td>\n",
       "    </tr>\n",
       "  </tbody>\n",
       "</table>\n",
       "</div>"
      ],
      "text/plain": [
       "  generalcode category                                        generalname\n",
       "0          G1  Plastic                    4/6-pack yokes, six-pack rings \n",
       "1          G3  Plastic                        Shopping Bags  incl. pieces\n",
       "2          G4  Plastic  Small plastic bags, e.g. freezer bags incl. pi...\n",
       "3          G5  Plastic  Plastic bags collective role; what remains fro...\n",
       "4          G7  Plastic                              Drink bottles  <=0.5l"
      ]
     },
     "execution_count": 9,
     "metadata": {},
     "output_type": "execute_result"
    }
   ],
   "source": [
    "plasticmetadf = metadf[metadf[\"category\"] == \"Plastic\"]\n",
    "\n",
    "plasticmetadf.head()"
   ]
  },
  {
   "cell_type": "markdown",
   "id": "fc01f4d6-cb16-47d0-b520-ae051f9ec93d",
   "metadata": {},
   "source": [
    "Now, let's get the codes of all the plastic items so we can slice the Data csv and get only the plastic item counts"
   ]
  },
  {
   "cell_type": "code",
   "execution_count": 10,
   "id": "4f57d957-31bb-4c49-a222-e811ad108d72",
   "metadata": {},
   "outputs": [
    {
     "data": {
      "text/plain": [
       "0       G1\n",
       "1       G3\n",
       "2       G4\n",
       "3       G5\n",
       "4       G7\n",
       "      ... \n",
       "84     G99\n",
       "85    G100\n",
       "86    G101\n",
       "87    G102\n",
       "88    G124\n",
       "Name: generalcode, Length: 89, dtype: object"
      ]
     },
     "execution_count": 10,
     "metadata": {},
     "output_type": "execute_result"
    }
   ],
   "source": [
    "PLASTIC_CODES = plasticmetadf[\"generalcode\"]\n",
    "PLASTIC_CODES"
   ]
  },
  {
   "cell_type": "code",
   "execution_count": 11,
   "id": "39cb616a-52bd-449a-a0c3-19057c7aa5e4",
   "metadata": {},
   "outputs": [],
   "source": [
    "#Now make a dataframe that includes the date, beach type,\n",
    "# country, and all of the plastic columns\n",
    "\n",
    "#slice the dates col\n",
    "dates = df['EventDate']\n",
    "\n",
    "#slice the beach types col\n",
    "beachtypes = df[\"BeachType\"]\n",
    "\n",
    "#slice location col\n",
    "countries = df[\"BeachCountrycode\"]\n",
    "\n",
    "#slice all the plastic cols\n",
    "plastics_df = df[PLASTIC_CODES]\n",
    "\n",
    "#add event date, beach type, and country into plastics_df\n",
    "plastics_df['EventDate'] = dates\n",
    "plastics_df[\"BeachType\"] = beachtypes\n",
    "plastics_df[\"Country\"] = countries\n",
    "\n",
    "#sum across plastic columns to get total plastic\n",
    "totalPlast = plastics_df[PLASTIC_CODES].sum(axis=1);\n",
    "\n",
    "#add the total column\n",
    "plastics_df[\"Total Plastic\"] = totalPlast\n",
    "\n",
    "#format the date column\n",
    "plastics_df['EventDate'] = pd.to_datetime(df['EventDate'], format='%Y%m%d')\n"
   ]
  },
  {
   "cell_type": "code",
   "execution_count": 12,
   "id": "3fd5db2d-7f3f-438c-bfec-6f6c4c44ae33",
   "metadata": {},
   "outputs": [
    {
     "data": {
      "image/png": "[encoded data removed]",
      "text/plain": [
       "<Figure size 432x288 with 1 Axes>"
      ]
     },
     "metadata": {
      "needs_background": "light"
     },
     "output_type": "display_data"
    }
   ],
   "source": [
    "ax1 = plastics_df.plot.scatter(y='Total Plastic',\n",
    "                      x='EventDate',\n",
    "                      c='DarkBlue',\n",
    "                    title = \"Plastic totals per day\")"
   ]
  },
  {
   "cell_type": "markdown",
   "id": "27dde9da-f229-48e4-9a68-3e8cbc122a18",
   "metadata": {},
   "source": [
    "Hmmm not super informative. Let's look at this another way..."
   ]
  },
  {
   "cell_type": "code",
   "execution_count": 13,
   "id": "79972b50-f962-4aa8-b9c1-444747bfb1cf",
   "metadata": {},
   "outputs": [],
   "source": [
    "plastics_df_day_sum = plastics_df.groupby('EventDate').mean().reset_index()"
   ]
  },
  {
   "cell_type": "markdown",
   "id": "7b00fb93-8a77-4bbe-b7e5-8d368cc5ea88",
   "metadata": {},
   "source": [
    "Now take the mean per day, and change the alpha value to better see the density"
   ]
  },
  {
   "cell_type": "code",
   "execution_count": 14,
   "id": "bbe9b244-96ed-4013-944e-29b08b0958b3",
   "metadata": {},
   "outputs": [
    {
     "data": {
      "image/png": "[encoded data removed]",
      "text/plain": [
       "<Figure size 432x288 with 1 Axes>"
      ]
     },
     "metadata": {
      "needs_background": "light"
     },
     "output_type": "display_data"
    }
   ],
   "source": [
    "ax1 = plastics_df_day_sum.plot.scatter(y='Total Plastic',\n",
    "                      x='EventDate',\n",
    "                    alpha = .2,\n",
    "                      c='DarkBlue',\n",
    "                           title = \"Plastic total by time\")"
   ]
  },
  {
   "cell_type": "markdown",
   "id": "746c3a57-1571-42ea-9b70-3528d907f15a",
   "metadata": {},
   "source": [
    "From this graph, we see that the amount of plastic found over time remained mostly unchanged, with the vast majority of values falling below 2000 pieces collected per day"
   ]
  },
  {
   "cell_type": "code",
   "execution_count": 15,
   "id": "dce932b5-0067-4c7e-930f-fcdbffcc6d66",
   "metadata": {},
   "outputs": [
    {
     "data": {
      "image/png": "[encoded data removed]",
      "text/plain": [
       "<Figure size 432x288 with 1 Axes>"
      ]
     },
     "metadata": {
      "needs_background": "light"
     },
     "output_type": "display_data"
    }
   ],
   "source": [
    "plastics_df[\"EventMonth\"] = plastics_df['EventDate'].astype(str).str[:7]\n",
    "plastics_df_month_sum = plastics_df.groupby('EventMonth').mean().reset_index()\n",
    "\n",
    "ax1 = plastics_df_month_sum.plot.scatter(y='Total Plastic',\n",
    "                      x='EventMonth',\n",
    "                      c='DarkBlue',\n",
    "                    xticks=('2013-03', '2014-01', '2015-01','2016-01','2017-01','2018-01','2019-01','2020-01','2021-01'),\n",
    "                   rot=90,\n",
    "                   \n",
    "                    title = \"Average Pieces of Plastic Collected per cleanup By Month\")"
   ]
  },
  {
   "cell_type": "code",
   "execution_count": 37,
   "id": "7962987d-ecd2-4c8f-a6cf-7382022c6b87",
   "metadata": {},
   "outputs": [
    {
     "data": {
      "text/plain": [
       "<matplotlib.collections.PathCollection at 0x20d12d58430>"
      ]
     },
     "execution_count": 37,
     "metadata": {},
     "output_type": "execute_result"
    },
    {
     "data": {
      "image/png": "[encoded data removed]",
      "text/plain": [
       "<Figure size 432x288 with 1 Axes>"
      ]
     },
     "metadata": {
      "needs_background": "light"
     },
     "output_type": "display_data"
    }
   ],
   "source": [
    "x = range(93)\n",
    "#in this range, 1 represents march of 2013, 2 represents april of 2013, and so on\n",
    "\n",
    "y = plastics_df_month_sum['Total Plastic']\n",
    "model = np.polyfit(x,y,6)\n",
    "predict = np.poly1d(model)\n",
    "x_lin_reg = x\n",
    "y_lin_reg = predict(x_lin_reg)\n",
    "\n",
    "plt.plot(x_lin_reg, y_lin_reg, c = 'r')\n",
    "plt.scatter(x,y)"
   ]
  },
  {
   "cell_type": "code",
   "execution_count": 38,
   "id": "6ed316da-2283-43a5-9093-2200217c2b25",
   "metadata": {},
   "outputs": [
    {
     "name": "stdout",
     "output_type": "stream",
     "text": [
      "Mean absolute error:  353.24709697187285\n",
      "R-squared:  0.13112036193396015\n"
     ]
    }
   ],
   "source": [
    "import sklearn\n",
    "import sklearn.metrics as metrics\n",
    "\n",
    "mae = metrics.mean_absolute_error(y,y_lin_reg);\n",
    "print(\"Mean absolute error: \",mae);\n",
    "\n",
    "r2 = metrics.r2_score(y,y_lin_reg);\n",
    "print(\"R-squared: \", r2);"
   ]
  },
  {
   "cell_type": "markdown",
   "id": "965b673f-2232-47cc-9705-6af78d200463",
   "metadata": {},
   "source": [
    "**Finding:** This regression has a relatively high mean squared error or over 300, and an r^2 of .13, meaning the fit is poor. Given the high variance of this model, it would not be wise to draw any conclusions from this data.\n",
    "\n",
    "I am unable to draw any conclusions from my (limited) exploration of the data as to whether the COVID-19 pandemic affected the amount of plastic debris found on beaches."
   ]
  },
  {
   "cell_type": "markdown",
   "id": "361da8c4-0668-4fba-bce6-ec576b5bb0ad",
   "metadata": {},
   "source": [
    "## Beach Type & Debris Size\n",
    "\n",
    "**Question being addressed: Does the type of beach (sandy vs. rocky vs. pebbles) affect the type and amount of litter and debris found?**\n",
    "\n",
    "In the Meta csv, some categories include the size of objects found. For example, G14 is \"Plastic Engine oil bottles & containers <50 cm\", and G15 is \"Plastic Engine oil bottles & containers > 50 cm\". I will use all of the columns that include the \"greater than 50 cm\" and \"less than 50 cm\" to compare the amount or large items against the amount of small items found at each beach type.\n",
    "\n"
   ]
  },
  {
   "cell_type": "code",
   "execution_count": 14,
   "id": "bddbad53-a180-4700-9b3f-d7566ad88c4c",
   "metadata": {},
   "outputs": [],
   "source": [
    "#Manually go through Meta csv to get item codes that specify \n",
    "#size greater than or less than 50 cm\n"
   ]
  },
  {
   "cell_type": "code",
   "execution_count": 15,
   "id": "4c0a95c1-3842-46d1-8d2f-20beafdcf885",
   "metadata": {},
   "outputs": [],
   "source": [
    "UNDER_50_CM_CODES = ['G14', 'G53', 'G76', 'G79', 'G82', 'G171', 'G198']\n",
    "\n",
    "OVER_50_CM_CODES =  ['G15', 'G54', 'G77', 'G80', 'G83', 'G172', 'G199']\n",
    "\n",
    "#G14/15: Engine oil bottles & containers\n",
    "#G53/54: Nets and pieces of net\n",
    "#G76/77: Plastic/polystyrene pieces\n",
    "#G79/80: Plastic pieces\n",
    "#G82/83: Polystyrene pieces\n",
    "#G171/172: Other wood\n",
    "#G198/199: Other metal pieces\n",
    "\n",
    "size_df = df\n"
   ]
  },
  {
   "cell_type": "code",
   "execution_count": 16,
   "id": "c13c4a10-bae7-4a26-97ac-09b1e3b960da",
   "metadata": {},
   "outputs": [
    {
     "data": {
      "text/html": [
       "<div>\n",
       "<style scoped>\n",
       "    .dataframe tbody tr th:only-of-type {\n",
       "        vertical-align: middle;\n",
       "    }\n",
       "\n",
       "    .dataframe tbody tr th {\n",
       "        vertical-align: top;\n",
       "    }\n",
       "\n",
       "    .dataframe thead th {\n",
       "        text-align: right;\n",
       "    }\n",
       "</style>\n",
       "<table border=\"1\" class=\"dataframe\">\n",
       "  <thead>\n",
       "    <tr style=\"text-align: right;\">\n",
       "      <th></th>\n",
       "      <th>CommunityName</th>\n",
       "      <th>BeachName</th>\n",
       "      <th>BeachCountrycode</th>\n",
       "      <th>BeachRegionalSea</th>\n",
       "      <th>BeachLength_m</th>\n",
       "      <th>BeachLocation</th>\n",
       "      <th>BeachType</th>\n",
       "      <th>EventDate</th>\n",
       "      <th>EventType</th>\n",
       "      <th>NatRef</th>\n",
       "      <th>...</th>\n",
       "      <th>G204</th>\n",
       "      <th>G205</th>\n",
       "      <th>G206</th>\n",
       "      <th>G207</th>\n",
       "      <th>G208</th>\n",
       "      <th>G210</th>\n",
       "      <th>G211</th>\n",
       "      <th>G213</th>\n",
       "      <th>Total Small</th>\n",
       "      <th>Total Big</th>\n",
       "    </tr>\n",
       "  </thead>\n",
       "  <tbody>\n",
       "    <tr>\n",
       "      <th>0</th>\n",
       "      <td>gBqsPxAZ</td>\n",
       "      <td>krapetz</td>\n",
       "      <td>BG</td>\n",
       "      <td>Black Sea</td>\n",
       "      <td>5850</td>\n",
       "      <td>Rural</td>\n",
       "      <td>Sandy</td>\n",
       "      <td>20160310</td>\n",
       "      <td>Cleanup</td>\n",
       "      <td>NaN</td>\n",
       "      <td>...</td>\n",
       "      <td>NaN</td>\n",
       "      <td>3.0</td>\n",
       "      <td>NaN</td>\n",
       "      <td>NaN</td>\n",
       "      <td>3.0</td>\n",
       "      <td>NaN</td>\n",
       "      <td>1.0</td>\n",
       "      <td>NaN</td>\n",
       "      <td>15.0</td>\n",
       "      <td>18.0</td>\n",
       "    </tr>\n",
       "    <tr>\n",
       "      <th>1</th>\n",
       "      <td>gBqsPxAZ</td>\n",
       "      <td>krapetz</td>\n",
       "      <td>BG</td>\n",
       "      <td>Black Sea</td>\n",
       "      <td>5850</td>\n",
       "      <td>Rural</td>\n",
       "      <td>Sandy</td>\n",
       "      <td>20150902</td>\n",
       "      <td>Cleanup</td>\n",
       "      <td>NaN</td>\n",
       "      <td>...</td>\n",
       "      <td>2.0</td>\n",
       "      <td>NaN</td>\n",
       "      <td>NaN</td>\n",
       "      <td>NaN</td>\n",
       "      <td>7.0</td>\n",
       "      <td>3.0</td>\n",
       "      <td>NaN</td>\n",
       "      <td>NaN</td>\n",
       "      <td>226.0</td>\n",
       "      <td>10.0</td>\n",
       "    </tr>\n",
       "    <tr>\n",
       "      <th>2</th>\n",
       "      <td>gBqsPxAZ</td>\n",
       "      <td>krapetz</td>\n",
       "      <td>BG</td>\n",
       "      <td>Black Sea</td>\n",
       "      <td>5850</td>\n",
       "      <td>Rural</td>\n",
       "      <td>Sandy</td>\n",
       "      <td>20151203</td>\n",
       "      <td>Cleanup</td>\n",
       "      <td>NaN</td>\n",
       "      <td>...</td>\n",
       "      <td>5.0</td>\n",
       "      <td>NaN</td>\n",
       "      <td>NaN</td>\n",
       "      <td>NaN</td>\n",
       "      <td>2.0</td>\n",
       "      <td>NaN</td>\n",
       "      <td>2.0</td>\n",
       "      <td>1.0</td>\n",
       "      <td>35.0</td>\n",
       "      <td>9.0</td>\n",
       "    </tr>\n",
       "    <tr>\n",
       "      <th>3</th>\n",
       "      <td>gBqsPxAZ</td>\n",
       "      <td>krapetz</td>\n",
       "      <td>BG</td>\n",
       "      <td>Black Sea</td>\n",
       "      <td>5850</td>\n",
       "      <td>Rural</td>\n",
       "      <td>Sandy</td>\n",
       "      <td>20151008</td>\n",
       "      <td>Cleanup</td>\n",
       "      <td>NaN</td>\n",
       "      <td>...</td>\n",
       "      <td>2.0</td>\n",
       "      <td>NaN</td>\n",
       "      <td>NaN</td>\n",
       "      <td>NaN</td>\n",
       "      <td>5.0</td>\n",
       "      <td>26.0</td>\n",
       "      <td>NaN</td>\n",
       "      <td>NaN</td>\n",
       "      <td>68.0</td>\n",
       "      <td>7.0</td>\n",
       "    </tr>\n",
       "    <tr>\n",
       "      <th>4</th>\n",
       "      <td>Legambiente Onlus</td>\n",
       "      <td>San Mauro Cilento (SA)</td>\n",
       "      <td>IT</td>\n",
       "      <td>Unknown</td>\n",
       "      <td>100</td>\n",
       "      <td>NaN</td>\n",
       "      <td>NaN</td>\n",
       "      <td>20180428</td>\n",
       "      <td>Monitoring</td>\n",
       "      <td>NaN</td>\n",
       "      <td>...</td>\n",
       "      <td>NaN</td>\n",
       "      <td>NaN</td>\n",
       "      <td>NaN</td>\n",
       "      <td>NaN</td>\n",
       "      <td>3.0</td>\n",
       "      <td>NaN</td>\n",
       "      <td>2.0</td>\n",
       "      <td>NaN</td>\n",
       "      <td>140.0</td>\n",
       "      <td>9.0</td>\n",
       "    </tr>\n",
       "  </tbody>\n",
       "</table>\n",
       "<p>5 rows × 178 columns</p>\n",
       "</div>"
      ],
      "text/plain": [
       "       CommunityName               BeachName BeachCountrycode  \\\n",
       "0           gBqsPxAZ                 krapetz               BG   \n",
       "1           gBqsPxAZ                 krapetz               BG   \n",
       "2           gBqsPxAZ                 krapetz               BG   \n",
       "3           gBqsPxAZ                 krapetz               BG   \n",
       "4  Legambiente Onlus  San Mauro Cilento (SA)               IT   \n",
       "\n",
       "  BeachRegionalSea  BeachLength_m BeachLocation BeachType  EventDate  \\\n",
       "0        Black Sea           5850         Rural     Sandy   20160310   \n",
       "1        Black Sea           5850         Rural     Sandy   20150902   \n",
       "2        Black Sea           5850         Rural     Sandy   20151203   \n",
       "3        Black Sea           5850         Rural     Sandy   20151008   \n",
       "4          Unknown            100           NaN       NaN   20180428   \n",
       "\n",
       "    EventType NatRef  ...  G204  G205  G206  G207  G208  G210  G211  G213  \\\n",
       "0     Cleanup    NaN  ...   NaN   3.0   NaN   NaN   3.0   NaN   1.0   NaN   \n",
       "1     Cleanup    NaN  ...   2.0   NaN   NaN   NaN   7.0   3.0   NaN   NaN   \n",
       "2     Cleanup    NaN  ...   5.0   NaN   NaN   NaN   2.0   NaN   2.0   1.0   \n",
       "3     Cleanup    NaN  ...   2.0   NaN   NaN   NaN   5.0  26.0   NaN   NaN   \n",
       "4  Monitoring    NaN  ...   NaN   NaN   NaN   NaN   3.0   NaN   2.0   NaN   \n",
       "\n",
       "   Total Small  Total Big  \n",
       "0         15.0       18.0  \n",
       "1        226.0       10.0  \n",
       "2         35.0        9.0  \n",
       "3         68.0        7.0  \n",
       "4        140.0        9.0  \n",
       "\n",
       "[5 rows x 178 columns]"
      ]
     },
     "execution_count": 16,
     "metadata": {},
     "output_type": "execute_result"
    }
   ],
   "source": [
    "totalSmall = size_df[UNDER_50_CM_CODES].sum(axis=1);\n",
    "\n",
    "size_df['Total Small'] = totalSmall\n",
    "\n",
    "totalBig = size_df[OVER_50_CM_CODES].sum(axis=1);\n",
    "\n",
    "size_df['Total Big'] = totalBig\n",
    "\n",
    "size_df.head()"
   ]
  },
  {
   "cell_type": "markdown",
   "id": "9d24d348-c232-4d99-8365-17084c6f4da1",
   "metadata": {},
   "source": [
    "Important note: this data is only based on items which fall into categories which specifically state size. For instance, items in the \"Traffic cones\" column are probably greater than 50 cm, and items in the \"Paint brushed\" column are probably less that 50 cm, but I only included columns that explicity state the size."
   ]
  },
  {
   "cell_type": "code",
   "execution_count": 17,
   "id": "6a32983a-4f5a-4f03-8c06-d1636ae8994e",
   "metadata": {},
   "outputs": [
    {
     "data": {
      "text/html": [
       "<div>\n",
       "<style scoped>\n",
       "    .dataframe tbody tr th:only-of-type {\n",
       "        vertical-align: middle;\n",
       "    }\n",
       "\n",
       "    .dataframe tbody tr th {\n",
       "        vertical-align: top;\n",
       "    }\n",
       "\n",
       "    .dataframe thead th {\n",
       "        text-align: right;\n",
       "    }\n",
       "</style>\n",
       "<table border=\"1\" class=\"dataframe\">\n",
       "  <thead>\n",
       "    <tr style=\"text-align: right;\">\n",
       "      <th></th>\n",
       "      <th>CommunityName</th>\n",
       "      <th>BeachName</th>\n",
       "      <th>BeachCountrycode</th>\n",
       "      <th>BeachRegionalSea</th>\n",
       "      <th>BeachLength_m</th>\n",
       "      <th>BeachLocation</th>\n",
       "      <th>BeachType</th>\n",
       "      <th>EventDate</th>\n",
       "      <th>EventType</th>\n",
       "      <th>NatRef</th>\n",
       "      <th>...</th>\n",
       "      <th>G205</th>\n",
       "      <th>G206</th>\n",
       "      <th>G207</th>\n",
       "      <th>G208</th>\n",
       "      <th>G210</th>\n",
       "      <th>G211</th>\n",
       "      <th>G213</th>\n",
       "      <th>Total Small</th>\n",
       "      <th>Total Big</th>\n",
       "      <th>% Big</th>\n",
       "    </tr>\n",
       "  </thead>\n",
       "  <tbody>\n",
       "    <tr>\n",
       "      <th>0</th>\n",
       "      <td>gBqsPxAZ</td>\n",
       "      <td>krapetz</td>\n",
       "      <td>BG</td>\n",
       "      <td>Black Sea</td>\n",
       "      <td>5850</td>\n",
       "      <td>Rural</td>\n",
       "      <td>Sandy</td>\n",
       "      <td>20160310</td>\n",
       "      <td>Cleanup</td>\n",
       "      <td>NaN</td>\n",
       "      <td>...</td>\n",
       "      <td>3.0</td>\n",
       "      <td>NaN</td>\n",
       "      <td>NaN</td>\n",
       "      <td>3.0</td>\n",
       "      <td>NaN</td>\n",
       "      <td>1.0</td>\n",
       "      <td>NaN</td>\n",
       "      <td>15.0</td>\n",
       "      <td>18.0</td>\n",
       "      <td>54.545455</td>\n",
       "    </tr>\n",
       "    <tr>\n",
       "      <th>1</th>\n",
       "      <td>gBqsPxAZ</td>\n",
       "      <td>krapetz</td>\n",
       "      <td>BG</td>\n",
       "      <td>Black Sea</td>\n",
       "      <td>5850</td>\n",
       "      <td>Rural</td>\n",
       "      <td>Sandy</td>\n",
       "      <td>20150902</td>\n",
       "      <td>Cleanup</td>\n",
       "      <td>NaN</td>\n",
       "      <td>...</td>\n",
       "      <td>NaN</td>\n",
       "      <td>NaN</td>\n",
       "      <td>NaN</td>\n",
       "      <td>7.0</td>\n",
       "      <td>3.0</td>\n",
       "      <td>NaN</td>\n",
       "      <td>NaN</td>\n",
       "      <td>226.0</td>\n",
       "      <td>10.0</td>\n",
       "      <td>4.237288</td>\n",
       "    </tr>\n",
       "    <tr>\n",
       "      <th>2</th>\n",
       "      <td>gBqsPxAZ</td>\n",
       "      <td>krapetz</td>\n",
       "      <td>BG</td>\n",
       "      <td>Black Sea</td>\n",
       "      <td>5850</td>\n",
       "      <td>Rural</td>\n",
       "      <td>Sandy</td>\n",
       "      <td>20151203</td>\n",
       "      <td>Cleanup</td>\n",
       "      <td>NaN</td>\n",
       "      <td>...</td>\n",
       "      <td>NaN</td>\n",
       "      <td>NaN</td>\n",
       "      <td>NaN</td>\n",
       "      <td>2.0</td>\n",
       "      <td>NaN</td>\n",
       "      <td>2.0</td>\n",
       "      <td>1.0</td>\n",
       "      <td>35.0</td>\n",
       "      <td>9.0</td>\n",
       "      <td>20.454545</td>\n",
       "    </tr>\n",
       "    <tr>\n",
       "      <th>3</th>\n",
       "      <td>gBqsPxAZ</td>\n",
       "      <td>krapetz</td>\n",
       "      <td>BG</td>\n",
       "      <td>Black Sea</td>\n",
       "      <td>5850</td>\n",
       "      <td>Rural</td>\n",
       "      <td>Sandy</td>\n",
       "      <td>20151008</td>\n",
       "      <td>Cleanup</td>\n",
       "      <td>NaN</td>\n",
       "      <td>...</td>\n",
       "      <td>NaN</td>\n",
       "      <td>NaN</td>\n",
       "      <td>NaN</td>\n",
       "      <td>5.0</td>\n",
       "      <td>26.0</td>\n",
       "      <td>NaN</td>\n",
       "      <td>NaN</td>\n",
       "      <td>68.0</td>\n",
       "      <td>7.0</td>\n",
       "      <td>9.333333</td>\n",
       "    </tr>\n",
       "    <tr>\n",
       "      <th>4</th>\n",
       "      <td>Legambiente Onlus</td>\n",
       "      <td>San Mauro Cilento (SA)</td>\n",
       "      <td>IT</td>\n",
       "      <td>Unknown</td>\n",
       "      <td>100</td>\n",
       "      <td>NaN</td>\n",
       "      <td>NaN</td>\n",
       "      <td>20180428</td>\n",
       "      <td>Monitoring</td>\n",
       "      <td>NaN</td>\n",
       "      <td>...</td>\n",
       "      <td>NaN</td>\n",
       "      <td>NaN</td>\n",
       "      <td>NaN</td>\n",
       "      <td>3.0</td>\n",
       "      <td>NaN</td>\n",
       "      <td>2.0</td>\n",
       "      <td>NaN</td>\n",
       "      <td>140.0</td>\n",
       "      <td>9.0</td>\n",
       "      <td>6.040268</td>\n",
       "    </tr>\n",
       "  </tbody>\n",
       "</table>\n",
       "<p>5 rows × 179 columns</p>\n",
       "</div>"
      ],
      "text/plain": [
       "       CommunityName               BeachName BeachCountrycode  \\\n",
       "0           gBqsPxAZ                 krapetz               BG   \n",
       "1           gBqsPxAZ                 krapetz               BG   \n",
       "2           gBqsPxAZ                 krapetz               BG   \n",
       "3           gBqsPxAZ                 krapetz               BG   \n",
       "4  Legambiente Onlus  San Mauro Cilento (SA)               IT   \n",
       "\n",
       "  BeachRegionalSea  BeachLength_m BeachLocation BeachType  EventDate  \\\n",
       "0        Black Sea           5850         Rural     Sandy   20160310   \n",
       "1        Black Sea           5850         Rural     Sandy   20150902   \n",
       "2        Black Sea           5850         Rural     Sandy   20151203   \n",
       "3        Black Sea           5850         Rural     Sandy   20151008   \n",
       "4          Unknown            100           NaN       NaN   20180428   \n",
       "\n",
       "    EventType NatRef  ...  G205  G206  G207  G208  G210  G211  G213  \\\n",
       "0     Cleanup    NaN  ...   3.0   NaN   NaN   3.0   NaN   1.0   NaN   \n",
       "1     Cleanup    NaN  ...   NaN   NaN   NaN   7.0   3.0   NaN   NaN   \n",
       "2     Cleanup    NaN  ...   NaN   NaN   NaN   2.0   NaN   2.0   1.0   \n",
       "3     Cleanup    NaN  ...   NaN   NaN   NaN   5.0  26.0   NaN   NaN   \n",
       "4  Monitoring    NaN  ...   NaN   NaN   NaN   3.0   NaN   2.0   NaN   \n",
       "\n",
       "   Total Small  Total Big      % Big  \n",
       "0         15.0       18.0  54.545455  \n",
       "1        226.0       10.0   4.237288  \n",
       "2         35.0        9.0  20.454545  \n",
       "3         68.0        7.0   9.333333  \n",
       "4        140.0        9.0   6.040268  \n",
       "\n",
       "[5 rows x 179 columns]"
      ]
     },
     "execution_count": 17,
     "metadata": {},
     "output_type": "execute_result"
    }
   ],
   "source": [
    "\n",
    "size_df[\"% Big\"] = 100 * size_df['Total Big'] / (size_df['Total Big'] + size_df['Total Small'])\n",
    "size_df.head()"
   ]
  },
  {
   "cell_type": "code",
   "execution_count": 18,
   "id": "df80238f-db88-4801-b3a9-0b64474fde50",
   "metadata": {},
   "outputs": [
    {
     "data": {
      "image/png": "[encoded data removed]",
      "text/plain": [
       "<Figure size 432x288 with 1 Axes>"
      ]
     },
     "metadata": {
      "needs_background": "light"
     },
     "output_type": "display_data"
    },
    {
     "data": {
      "image/png": "[encoded data removed]",
      "text/plain": [
       "<Figure size 432x288 with 1 Axes>"
      ]
     },
     "metadata": {
      "needs_background": "light"
     },
     "output_type": "display_data"
    },
    {
     "data": {
      "image/png": "[encoded data removed]",
      "text/plain": [
       "<Figure size 432x288 with 1 Axes>"
      ]
     },
     "metadata": {
      "needs_background": "light"
     },
     "output_type": "display_data"
    },
    {
     "data": {
      "image/png": "[encoded data removed]",
      "text/plain": [
       "<Figure size 432x288 with 1 Axes>"
      ]
     },
     "metadata": {
      "needs_background": "light"
     },
     "output_type": "display_data"
    }
   ],
   "source": [
    "types = [\"Sandy\", \"Rocky\", \"Pebbels\", \"Other (mixed)\"]\n",
    "\n",
    "perc_big_dist_by_beach_type = {}\n",
    "\n",
    "for i in types:\n",
    "    perc_big_dist_by_beach_type[i] = size_df[size_df['BeachType'] == i]\n",
    "    thisdf = perc_big_dist_by_beach_type[i]\n",
    "    thisdf.hist(column = '% Big', bins=20, legend=True)\n",
    "    "
   ]
  },
  {
   "cell_type": "markdown",
   "id": "b6fb6c9c-7a2b-49ce-8070-73839e7a11dc",
   "metadata": {},
   "source": [
    "### ^Above: % Big Distributions for Sandy, Rocky, Pebbels, and Other (mixed)"
   ]
  },
  {
   "cell_type": "markdown",
   "id": "a6833480-0eb7-4250-a62f-1347319c8c55",
   "metadata": {},
   "source": [
    "### Result:\n",
    "\n",
    "The distributions of percentages of big items retrieved at each beach type do not follow a normal distribution; they are all right skewed. Let's compare their distributions to eachother"
   ]
  },
  {
   "cell_type": "code",
   "execution_count": 23,
   "id": "c3c2fa97-4f5c-4c83-a7db-85d5fba93cda",
   "metadata": {},
   "outputs": [],
   "source": [
    "rockydist = perc_big_dist_by_beach_type['Rocky']['% Big']\n",
    "sandydist = perc_big_dist_by_beach_type['Sandy']['% Big']\n",
    "\n",
    "pebbeldist = perc_big_dist_by_beach_type['Pebbels']['% Big']\n",
    "otherdist = perc_big_dist_by_beach_type['Other (mixed)']['% Big']\n"
   ]
  },
  {
   "cell_type": "code",
   "execution_count": 41,
   "id": "0d988855-5e66-45dd-9e9b-f3958479b7eb",
   "metadata": {},
   "outputs": [],
   "source": [
    "from scipy import stats"
   ]
  },
  {
   "cell_type": "code",
   "execution_count": 25,
   "id": "e008e061-60a3-4a48-9de4-715977dfa03b",
   "metadata": {},
   "outputs": [
    {
     "data": {
      "text/plain": [
       "KruskalResult(statistic=13.740136763219578, pvalue=0.003281082744832735)"
      ]
     },
     "execution_count": 25,
     "metadata": {},
     "output_type": "execute_result"
    }
   ],
   "source": [
    "stats.kruskal(rockydist, otherdist, sandydist, pebbeldist, nan_policy='omit')"
   ]
  },
  {
   "cell_type": "markdown",
   "id": "43033ce4-72fd-4e0c-b3ca-fb793cd6fbc9",
   "metadata": {},
   "source": [
    "#### Finding:\n",
    "Running a Kruskal Wallis test on all 4 beach types shows us that there exists significant difference between the distributions (p = .003). Let's do some pairwise comparisons to see which ones are significantlt different from stats.kruskal(sandydist, pebbeldist, nan_policy='omit')"
   ]
  },
  {
   "cell_type": "code",
   "execution_count": 26,
   "id": "aeda8dbe-e7f2-4c86-a840-ee70f9b76b34",
   "metadata": {},
   "outputs": [
    {
     "data": {
      "text/plain": [
       "KruskalResult(statistic=0.9978403812110318, pvalue=0.3178336372661171)"
      ]
     },
     "execution_count": 26,
     "metadata": {},
     "output_type": "execute_result"
    }
   ],
   "source": [
    "stats.kruskal(sandydist, rockydist, nan_policy='omit')"
   ]
  },
  {
   "cell_type": "code",
   "execution_count": 27,
   "id": "02773981-3a7e-4e36-9f35-ef7aaf1b304c",
   "metadata": {},
   "outputs": [
    {
     "data": {
      "text/plain": [
       "KruskalResult(statistic=10.643455285304732, pvalue=0.0011046110433826904)"
      ]
     },
     "execution_count": 27,
     "metadata": {},
     "output_type": "execute_result"
    }
   ],
   "source": [
    "stats.kruskal(sandydist, pebbeldist, nan_policy='omit')"
   ]
  },
  {
   "cell_type": "code",
   "execution_count": 28,
   "id": "e5fdc63b-a50f-4d69-9702-d365cdc4028b",
   "metadata": {},
   "outputs": [
    {
     "data": {
      "text/plain": [
       "KruskalResult(statistic=3.5710145582447477, pvalue=0.058796378012575076)"
      ]
     },
     "execution_count": 28,
     "metadata": {},
     "output_type": "execute_result"
    }
   ],
   "source": [
    "stats.kruskal(sandydist, otherdist, nan_policy='omit')"
   ]
  },
  {
   "cell_type": "code",
   "execution_count": 29,
   "id": "608a431e-1510-4d1e-9bce-7e3115431336",
   "metadata": {},
   "outputs": [
    {
     "data": {
      "text/plain": [
       "KruskalResult(statistic=6.722389937485682, pvalue=0.009520995833156066)"
      ]
     },
     "execution_count": 29,
     "metadata": {},
     "output_type": "execute_result"
    }
   ],
   "source": [
    "stats.kruskal(rockydist, pebbeldist, nan_policy='omit')"
   ]
  },
  {
   "cell_type": "code",
   "execution_count": 30,
   "id": "85e3e276-9ca0-49d0-9a49-d8c1e54f0f03",
   "metadata": {},
   "outputs": [
    {
     "data": {
      "text/plain": [
       "KruskalResult(statistic=3.0351710278209283, pvalue=0.08147796280643631)"
      ]
     },
     "execution_count": 30,
     "metadata": {},
     "output_type": "execute_result"
    }
   ],
   "source": [
    "stats.kruskal(rockydist, otherdist, nan_policy='omit')"
   ]
  },
  {
   "cell_type": "code",
   "execution_count": 31,
   "id": "64b2c10e-ab35-4eb5-b9ad-bbb43846aa72",
   "metadata": {},
   "outputs": [
    {
     "data": {
      "text/plain": [
       "KruskalResult(statistic=1.119405627436315, pvalue=0.2900464737196865)"
      ]
     },
     "execution_count": 31,
     "metadata": {},
     "output_type": "execute_result"
    }
   ],
   "source": [
    "stats.kruskal(pebbeldist, otherdist, nan_policy='omit')"
   ]
  },
  {
   "cell_type": "markdown",
   "id": "033e2e51-2843-4840-a3f5-a17e2229e726",
   "metadata": {},
   "source": [
    "#### Finding:\n",
    "The distribution of large item percentages at Pebbel beaches is significantly different from the distributions of both rocky and sandy beaches\n",
    "\n",
    "## Answer: Beach type does affect the size of debris that accumulates\n",
    "Though more research is needed to get a better understanding of how and why."
   ]
  },
  {
   "cell_type": "markdown",
   "id": "5ab78411-ee7b-40bc-a6c5-09fb9ad2ac85",
   "metadata": {},
   "source": [
    "## Beach Type and Debris Material"
   ]
  },
  {
   "cell_type": "code",
   "execution_count": 29,
   "id": "9528b6e2-5b44-4277-9c4e-a084ba70c458",
   "metadata": {},
   "outputs": [
    {
     "data": {
      "text/html": [
       "<div>\n",
       "<style scoped>\n",
       "    .dataframe tbody tr th:only-of-type {\n",
       "        vertical-align: middle;\n",
       "    }\n",
       "\n",
       "    .dataframe tbody tr th {\n",
       "        vertical-align: top;\n",
       "    }\n",
       "\n",
       "    .dataframe thead th {\n",
       "        text-align: right;\n",
       "    }\n",
       "</style>\n",
       "<table border=\"1\" class=\"dataframe\">\n",
       "  <thead>\n",
       "    <tr style=\"text-align: right;\">\n",
       "      <th></th>\n",
       "      <th>CommunityName</th>\n",
       "      <th>BeachName</th>\n",
       "      <th>BeachCountrycode</th>\n",
       "      <th>BeachRegionalSea</th>\n",
       "      <th>BeachLength_m</th>\n",
       "      <th>BeachLocation</th>\n",
       "      <th>BeachType</th>\n",
       "      <th>EventDate</th>\n",
       "      <th>EventType</th>\n",
       "      <th>NatRef</th>\n",
       "      <th>...</th>\n",
       "      <th>Total Small</th>\n",
       "      <th>Total Big</th>\n",
       "      <th>% Big</th>\n",
       "      <th>Sum of Processed/worked wood</th>\n",
       "      <th>Sum of Rubber</th>\n",
       "      <th>Sum of Cloth/textile</th>\n",
       "      <th>Sum of Plastic</th>\n",
       "      <th>Sum of Metal</th>\n",
       "      <th>Sum of Paper/Cardboard</th>\n",
       "      <th>Sum of Glass/ceramics</th>\n",
       "    </tr>\n",
       "  </thead>\n",
       "  <tbody>\n",
       "    <tr>\n",
       "      <th>0</th>\n",
       "      <td>gBqsPxAZ</td>\n",
       "      <td>krapetz</td>\n",
       "      <td>BG</td>\n",
       "      <td>Black Sea</td>\n",
       "      <td>5850</td>\n",
       "      <td>Rural</td>\n",
       "      <td>Sandy</td>\n",
       "      <td>20160310</td>\n",
       "      <td>Cleanup</td>\n",
       "      <td>NaN</td>\n",
       "      <td>...</td>\n",
       "      <td>15.0</td>\n",
       "      <td>18.0</td>\n",
       "      <td>54.545455</td>\n",
       "      <td>3.0</td>\n",
       "      <td>2.0</td>\n",
       "      <td>2.0</td>\n",
       "      <td>214.0</td>\n",
       "      <td>9.0</td>\n",
       "      <td>6.0</td>\n",
       "      <td>13.0</td>\n",
       "    </tr>\n",
       "    <tr>\n",
       "      <th>1</th>\n",
       "      <td>gBqsPxAZ</td>\n",
       "      <td>krapetz</td>\n",
       "      <td>BG</td>\n",
       "      <td>Black Sea</td>\n",
       "      <td>5850</td>\n",
       "      <td>Rural</td>\n",
       "      <td>Sandy</td>\n",
       "      <td>20150902</td>\n",
       "      <td>Cleanup</td>\n",
       "      <td>NaN</td>\n",
       "      <td>...</td>\n",
       "      <td>226.0</td>\n",
       "      <td>10.0</td>\n",
       "      <td>4.237288</td>\n",
       "      <td>10.0</td>\n",
       "      <td>3.0</td>\n",
       "      <td>24.0</td>\n",
       "      <td>954.0</td>\n",
       "      <td>15.0</td>\n",
       "      <td>43.0</td>\n",
       "      <td>17.0</td>\n",
       "    </tr>\n",
       "    <tr>\n",
       "      <th>2</th>\n",
       "      <td>gBqsPxAZ</td>\n",
       "      <td>krapetz</td>\n",
       "      <td>BG</td>\n",
       "      <td>Black Sea</td>\n",
       "      <td>5850</td>\n",
       "      <td>Rural</td>\n",
       "      <td>Sandy</td>\n",
       "      <td>20151203</td>\n",
       "      <td>Cleanup</td>\n",
       "      <td>NaN</td>\n",
       "      <td>...</td>\n",
       "      <td>35.0</td>\n",
       "      <td>9.0</td>\n",
       "      <td>20.454545</td>\n",
       "      <td>5.0</td>\n",
       "      <td>6.0</td>\n",
       "      <td>3.0</td>\n",
       "      <td>210.0</td>\n",
       "      <td>8.0</td>\n",
       "      <td>19.0</td>\n",
       "      <td>11.0</td>\n",
       "    </tr>\n",
       "    <tr>\n",
       "      <th>3</th>\n",
       "      <td>gBqsPxAZ</td>\n",
       "      <td>krapetz</td>\n",
       "      <td>BG</td>\n",
       "      <td>Black Sea</td>\n",
       "      <td>5850</td>\n",
       "      <td>Rural</td>\n",
       "      <td>Sandy</td>\n",
       "      <td>20151008</td>\n",
       "      <td>Cleanup</td>\n",
       "      <td>NaN</td>\n",
       "      <td>...</td>\n",
       "      <td>68.0</td>\n",
       "      <td>7.0</td>\n",
       "      <td>9.333333</td>\n",
       "      <td>0.0</td>\n",
       "      <td>12.0</td>\n",
       "      <td>16.0</td>\n",
       "      <td>1022.0</td>\n",
       "      <td>33.0</td>\n",
       "      <td>73.0</td>\n",
       "      <td>47.0</td>\n",
       "    </tr>\n",
       "    <tr>\n",
       "      <th>4</th>\n",
       "      <td>Legambiente Onlus</td>\n",
       "      <td>San Mauro Cilento (SA)</td>\n",
       "      <td>IT</td>\n",
       "      <td>Unknown</td>\n",
       "      <td>100</td>\n",
       "      <td>NaN</td>\n",
       "      <td>NaN</td>\n",
       "      <td>20180428</td>\n",
       "      <td>Monitoring</td>\n",
       "      <td>NaN</td>\n",
       "      <td>...</td>\n",
       "      <td>140.0</td>\n",
       "      <td>9.0</td>\n",
       "      <td>6.040268</td>\n",
       "      <td>22.0</td>\n",
       "      <td>7.0</td>\n",
       "      <td>1.0</td>\n",
       "      <td>506.0</td>\n",
       "      <td>51.0</td>\n",
       "      <td>57.0</td>\n",
       "      <td>7.0</td>\n",
       "    </tr>\n",
       "  </tbody>\n",
       "</table>\n",
       "<p>5 rows × 186 columns</p>\n",
       "</div>"
      ],
      "text/plain": [
       "       CommunityName               BeachName BeachCountrycode  \\\n",
       "0           gBqsPxAZ                 krapetz               BG   \n",
       "1           gBqsPxAZ                 krapetz               BG   \n",
       "2           gBqsPxAZ                 krapetz               BG   \n",
       "3           gBqsPxAZ                 krapetz               BG   \n",
       "4  Legambiente Onlus  San Mauro Cilento (SA)               IT   \n",
       "\n",
       "  BeachRegionalSea  BeachLength_m BeachLocation BeachType  EventDate  \\\n",
       "0        Black Sea           5850         Rural     Sandy   20160310   \n",
       "1        Black Sea           5850         Rural     Sandy   20150902   \n",
       "2        Black Sea           5850         Rural     Sandy   20151203   \n",
       "3        Black Sea           5850         Rural     Sandy   20151008   \n",
       "4          Unknown            100           NaN       NaN   20180428   \n",
       "\n",
       "    EventType NatRef  ...  Total Small  Total Big      % Big  \\\n",
       "0     Cleanup    NaN  ...         15.0       18.0  54.545455   \n",
       "1     Cleanup    NaN  ...        226.0       10.0   4.237288   \n",
       "2     Cleanup    NaN  ...         35.0        9.0  20.454545   \n",
       "3     Cleanup    NaN  ...         68.0        7.0   9.333333   \n",
       "4  Monitoring    NaN  ...        140.0        9.0   6.040268   \n",
       "\n",
       "   Sum of Processed/worked wood  Sum of Rubber  Sum of Cloth/textile  \\\n",
       "0                           3.0            2.0                   2.0   \n",
       "1                          10.0            3.0                  24.0   \n",
       "2                           5.0            6.0                   3.0   \n",
       "3                           0.0           12.0                  16.0   \n",
       "4                          22.0            7.0                   1.0   \n",
       "\n",
       "   Sum of Plastic  Sum of Metal  Sum of Paper/Cardboard  Sum of Glass/ceramics  \n",
       "0           214.0           9.0                     6.0                   13.0  \n",
       "1           954.0          15.0                    43.0                   17.0  \n",
       "2           210.0           8.0                    19.0                   11.0  \n",
       "3          1022.0          33.0                    73.0                   47.0  \n",
       "4           506.0          51.0                    57.0                    7.0  \n",
       "\n",
       "[5 rows x 186 columns]"
      ]
     },
     "execution_count": 29,
     "metadata": {},
     "output_type": "execute_result"
    }
   ],
   "source": [
    "#Get category codes for each type of material so we can get sums based on beach type\n",
    "\n",
    "material_codes = {}\n",
    "keys = {'Plastic', 'Rubber', 'Cloth/textile', 'Paper/Cardboard', 'Processed/worked wood', 'Metal', 'Glass/ceramics'}\n",
    "\n",
    "for i in keys:\n",
    "        material_codes[i] = metadf[metadf[\"category\"] == i]['generalcode']\n",
    "        \n",
    "#G301 and G302 are in the Meta csv but are not included in the data, so we need to manually \n",
    "#update the Cloth/textile codes to exclude those value\n",
    "    \n",
    "material_codes['Cloth/textile'] = [ 'G137',\n",
    " 'G138',\n",
    " 'G139', \n",
    " 'G140',\n",
    " 'G141',\n",
    " 'G142',\n",
    " 'G143',\n",
    " 'G144',\n",
    " 'G145']\n",
    "\n",
    "#Now we have a dictionary where the keys are the category types (Plastic, rubber, etc), \n",
    "#and their values are the column codes in that category\n",
    "    \n",
    "\n",
    "material_df = df\n",
    "\n",
    "material_sums = {}\n",
    "\n",
    "for j in keys:\n",
    "        material_sums[j] = material_df[material_codes[j]].sum(axis=1)\n",
    "        \n",
    "for k in keys:\n",
    "        material_df[\"Sum of \" + k] = material_sums[k]\n",
    "#G301 and G302 are in the Meta csv but are not included in the data, so we need to manually \n",
    "#remove them from list of cloth/textile codes\n",
    "\n",
    "material_df.head()"
   ]
  },
  {
   "cell_type": "code",
   "execution_count": 30,
   "id": "62065763-08e6-4b20-9a19-45f0aee8edc0",
   "metadata": {},
   "outputs": [
    {
     "data": {
      "text/html": [
       "<div>\n",
       "<style scoped>\n",
       "    .dataframe tbody tr th:only-of-type {\n",
       "        vertical-align: middle;\n",
       "    }\n",
       "\n",
       "    .dataframe tbody tr th {\n",
       "        vertical-align: top;\n",
       "    }\n",
       "\n",
       "    .dataframe thead th {\n",
       "        text-align: right;\n",
       "    }\n",
       "</style>\n",
       "<table border=\"1\" class=\"dataframe\">\n",
       "  <thead>\n",
       "    <tr style=\"text-align: right;\">\n",
       "      <th></th>\n",
       "      <th>CommunityName</th>\n",
       "      <th>BeachName</th>\n",
       "      <th>BeachCountrycode</th>\n",
       "      <th>BeachRegionalSea</th>\n",
       "      <th>BeachLength_m</th>\n",
       "      <th>BeachLocation</th>\n",
       "      <th>BeachType</th>\n",
       "      <th>EventDate</th>\n",
       "      <th>EventType</th>\n",
       "      <th>NatRef</th>\n",
       "      <th>...</th>\n",
       "      <th>Total Small</th>\n",
       "      <th>Total Big</th>\n",
       "      <th>% Big</th>\n",
       "      <th>Sum of Processed/worked wood</th>\n",
       "      <th>Sum of Rubber</th>\n",
       "      <th>Sum of Cloth/textile</th>\n",
       "      <th>Sum of Plastic</th>\n",
       "      <th>Sum of Metal</th>\n",
       "      <th>Sum of Paper/Cardboard</th>\n",
       "      <th>Sum of Glass/ceramics</th>\n",
       "    </tr>\n",
       "  </thead>\n",
       "  <tbody>\n",
       "    <tr>\n",
       "      <th>0</th>\n",
       "      <td>gBqsPxAZ</td>\n",
       "      <td>krapetz</td>\n",
       "      <td>BG</td>\n",
       "      <td>Black Sea</td>\n",
       "      <td>5850</td>\n",
       "      <td>Rural</td>\n",
       "      <td>Sandy</td>\n",
       "      <td>20160310</td>\n",
       "      <td>Cleanup</td>\n",
       "      <td>NaN</td>\n",
       "      <td>...</td>\n",
       "      <td>15.0</td>\n",
       "      <td>18.0</td>\n",
       "      <td>54.545455</td>\n",
       "      <td>3.0</td>\n",
       "      <td>2.0</td>\n",
       "      <td>2.0</td>\n",
       "      <td>214.0</td>\n",
       "      <td>9.0</td>\n",
       "      <td>6.0</td>\n",
       "      <td>13.0</td>\n",
       "    </tr>\n",
       "    <tr>\n",
       "      <th>1</th>\n",
       "      <td>gBqsPxAZ</td>\n",
       "      <td>krapetz</td>\n",
       "      <td>BG</td>\n",
       "      <td>Black Sea</td>\n",
       "      <td>5850</td>\n",
       "      <td>Rural</td>\n",
       "      <td>Sandy</td>\n",
       "      <td>20150902</td>\n",
       "      <td>Cleanup</td>\n",
       "      <td>NaN</td>\n",
       "      <td>...</td>\n",
       "      <td>226.0</td>\n",
       "      <td>10.0</td>\n",
       "      <td>4.237288</td>\n",
       "      <td>10.0</td>\n",
       "      <td>3.0</td>\n",
       "      <td>24.0</td>\n",
       "      <td>954.0</td>\n",
       "      <td>15.0</td>\n",
       "      <td>43.0</td>\n",
       "      <td>17.0</td>\n",
       "    </tr>\n",
       "    <tr>\n",
       "      <th>2</th>\n",
       "      <td>gBqsPxAZ</td>\n",
       "      <td>krapetz</td>\n",
       "      <td>BG</td>\n",
       "      <td>Black Sea</td>\n",
       "      <td>5850</td>\n",
       "      <td>Rural</td>\n",
       "      <td>Sandy</td>\n",
       "      <td>20151203</td>\n",
       "      <td>Cleanup</td>\n",
       "      <td>NaN</td>\n",
       "      <td>...</td>\n",
       "      <td>35.0</td>\n",
       "      <td>9.0</td>\n",
       "      <td>20.454545</td>\n",
       "      <td>5.0</td>\n",
       "      <td>6.0</td>\n",
       "      <td>3.0</td>\n",
       "      <td>210.0</td>\n",
       "      <td>8.0</td>\n",
       "      <td>19.0</td>\n",
       "      <td>11.0</td>\n",
       "    </tr>\n",
       "    <tr>\n",
       "      <th>3</th>\n",
       "      <td>gBqsPxAZ</td>\n",
       "      <td>krapetz</td>\n",
       "      <td>BG</td>\n",
       "      <td>Black Sea</td>\n",
       "      <td>5850</td>\n",
       "      <td>Rural</td>\n",
       "      <td>Sandy</td>\n",
       "      <td>20151008</td>\n",
       "      <td>Cleanup</td>\n",
       "      <td>NaN</td>\n",
       "      <td>...</td>\n",
       "      <td>68.0</td>\n",
       "      <td>7.0</td>\n",
       "      <td>9.333333</td>\n",
       "      <td>0.0</td>\n",
       "      <td>12.0</td>\n",
       "      <td>16.0</td>\n",
       "      <td>1022.0</td>\n",
       "      <td>33.0</td>\n",
       "      <td>73.0</td>\n",
       "      <td>47.0</td>\n",
       "    </tr>\n",
       "    <tr>\n",
       "      <th>4</th>\n",
       "      <td>Legambiente Onlus</td>\n",
       "      <td>San Mauro Cilento (SA)</td>\n",
       "      <td>IT</td>\n",
       "      <td>Unknown</td>\n",
       "      <td>100</td>\n",
       "      <td>NaN</td>\n",
       "      <td>NaN</td>\n",
       "      <td>20180428</td>\n",
       "      <td>Monitoring</td>\n",
       "      <td>NaN</td>\n",
       "      <td>...</td>\n",
       "      <td>140.0</td>\n",
       "      <td>9.0</td>\n",
       "      <td>6.040268</td>\n",
       "      <td>22.0</td>\n",
       "      <td>7.0</td>\n",
       "      <td>1.0</td>\n",
       "      <td>506.0</td>\n",
       "      <td>51.0</td>\n",
       "      <td>57.0</td>\n",
       "      <td>7.0</td>\n",
       "    </tr>\n",
       "  </tbody>\n",
       "</table>\n",
       "<p>5 rows × 186 columns</p>\n",
       "</div>"
      ],
      "text/plain": [
       "       CommunityName               BeachName BeachCountrycode  \\\n",
       "0           gBqsPxAZ                 krapetz               BG   \n",
       "1           gBqsPxAZ                 krapetz               BG   \n",
       "2           gBqsPxAZ                 krapetz               BG   \n",
       "3           gBqsPxAZ                 krapetz               BG   \n",
       "4  Legambiente Onlus  San Mauro Cilento (SA)               IT   \n",
       "\n",
       "  BeachRegionalSea  BeachLength_m BeachLocation BeachType  EventDate  \\\n",
       "0        Black Sea           5850         Rural     Sandy   20160310   \n",
       "1        Black Sea           5850         Rural     Sandy   20150902   \n",
       "2        Black Sea           5850         Rural     Sandy   20151203   \n",
       "3        Black Sea           5850         Rural     Sandy   20151008   \n",
       "4          Unknown            100           NaN       NaN   20180428   \n",
       "\n",
       "    EventType NatRef  ...  Total Small  Total Big      % Big  \\\n",
       "0     Cleanup    NaN  ...         15.0       18.0  54.545455   \n",
       "1     Cleanup    NaN  ...        226.0       10.0   4.237288   \n",
       "2     Cleanup    NaN  ...         35.0        9.0  20.454545   \n",
       "3     Cleanup    NaN  ...         68.0        7.0   9.333333   \n",
       "4  Monitoring    NaN  ...        140.0        9.0   6.040268   \n",
       "\n",
       "   Sum of Processed/worked wood  Sum of Rubber  Sum of Cloth/textile  \\\n",
       "0                           3.0            2.0                   2.0   \n",
       "1                          10.0            3.0                  24.0   \n",
       "2                           5.0            6.0                   3.0   \n",
       "3                           0.0           12.0                  16.0   \n",
       "4                          22.0            7.0                   1.0   \n",
       "\n",
       "   Sum of Plastic  Sum of Metal  Sum of Paper/Cardboard  Sum of Glass/ceramics  \n",
       "0           214.0           9.0                     6.0                   13.0  \n",
       "1           954.0          15.0                    43.0                   17.0  \n",
       "2           210.0           8.0                    19.0                   11.0  \n",
       "3          1022.0          33.0                    73.0                   47.0  \n",
       "4           506.0          51.0                    57.0                    7.0  \n",
       "\n",
       "[5 rows x 186 columns]"
      ]
     },
     "execution_count": 30,
     "metadata": {},
     "output_type": "execute_result"
    }
   ],
   "source": [
    "material_df_by_beach_type = material_df \n",
    "\n",
    "material_df_by_beach_type.head()"
   ]
  },
  {
   "cell_type": "code",
   "execution_count": 31,
   "id": "06a796c3-639f-4ce4-af62-cedefa59dcfe",
   "metadata": {},
   "outputs": [
    {
     "data": {
      "text/html": [
       "<div>\n",
       "<style scoped>\n",
       "    .dataframe tbody tr th:only-of-type {\n",
       "        vertical-align: middle;\n",
       "    }\n",
       "\n",
       "    .dataframe tbody tr th {\n",
       "        vertical-align: top;\n",
       "    }\n",
       "\n",
       "    .dataframe thead th {\n",
       "        text-align: right;\n",
       "    }\n",
       "</style>\n",
       "<table border=\"1\" class=\"dataframe\">\n",
       "  <thead>\n",
       "    <tr style=\"text-align: right;\">\n",
       "      <th></th>\n",
       "      <th>BeachType</th>\n",
       "      <th>Sum of Glass/ceramics</th>\n",
       "      <th>Sum of Rubber</th>\n",
       "      <th>Sum of Cloth/textile</th>\n",
       "      <th>Sum of Processed/worked wood</th>\n",
       "      <th>Sum of Plastic</th>\n",
       "      <th>Sum of Paper/Cardboard</th>\n",
       "      <th>Sum of Metal</th>\n",
       "      <th>Total Sum</th>\n",
       "    </tr>\n",
       "  </thead>\n",
       "  <tbody>\n",
       "    <tr>\n",
       "      <th>0</th>\n",
       "      <td>Sandy</td>\n",
       "      <td>13.0</td>\n",
       "      <td>2.0</td>\n",
       "      <td>2.0</td>\n",
       "      <td>3.0</td>\n",
       "      <td>214.0</td>\n",
       "      <td>6.0</td>\n",
       "      <td>9.0</td>\n",
       "      <td>249.0</td>\n",
       "    </tr>\n",
       "    <tr>\n",
       "      <th>1</th>\n",
       "      <td>Sandy</td>\n",
       "      <td>17.0</td>\n",
       "      <td>3.0</td>\n",
       "      <td>24.0</td>\n",
       "      <td>10.0</td>\n",
       "      <td>954.0</td>\n",
       "      <td>43.0</td>\n",
       "      <td>15.0</td>\n",
       "      <td>1066.0</td>\n",
       "    </tr>\n",
       "    <tr>\n",
       "      <th>2</th>\n",
       "      <td>Sandy</td>\n",
       "      <td>11.0</td>\n",
       "      <td>6.0</td>\n",
       "      <td>3.0</td>\n",
       "      <td>5.0</td>\n",
       "      <td>210.0</td>\n",
       "      <td>19.0</td>\n",
       "      <td>8.0</td>\n",
       "      <td>262.0</td>\n",
       "    </tr>\n",
       "    <tr>\n",
       "      <th>3</th>\n",
       "      <td>Sandy</td>\n",
       "      <td>47.0</td>\n",
       "      <td>12.0</td>\n",
       "      <td>16.0</td>\n",
       "      <td>0.0</td>\n",
       "      <td>1022.0</td>\n",
       "      <td>73.0</td>\n",
       "      <td>33.0</td>\n",
       "      <td>1203.0</td>\n",
       "    </tr>\n",
       "    <tr>\n",
       "      <th>4</th>\n",
       "      <td>NaN</td>\n",
       "      <td>7.0</td>\n",
       "      <td>7.0</td>\n",
       "      <td>1.0</td>\n",
       "      <td>22.0</td>\n",
       "      <td>506.0</td>\n",
       "      <td>57.0</td>\n",
       "      <td>51.0</td>\n",
       "      <td>651.0</td>\n",
       "    </tr>\n",
       "    <tr>\n",
       "      <th>...</th>\n",
       "      <td>...</td>\n",
       "      <td>...</td>\n",
       "      <td>...</td>\n",
       "      <td>...</td>\n",
       "      <td>...</td>\n",
       "      <td>...</td>\n",
       "      <td>...</td>\n",
       "      <td>...</td>\n",
       "      <td>...</td>\n",
       "    </tr>\n",
       "    <tr>\n",
       "      <th>3408</th>\n",
       "      <td>NaN</td>\n",
       "      <td>27.0</td>\n",
       "      <td>6.0</td>\n",
       "      <td>4.0</td>\n",
       "      <td>0.0</td>\n",
       "      <td>392.0</td>\n",
       "      <td>12.0</td>\n",
       "      <td>11.0</td>\n",
       "      <td>452.0</td>\n",
       "    </tr>\n",
       "    <tr>\n",
       "      <th>3409</th>\n",
       "      <td>NaN</td>\n",
       "      <td>1.0</td>\n",
       "      <td>2.0</td>\n",
       "      <td>0.0</td>\n",
       "      <td>1.0</td>\n",
       "      <td>83.0</td>\n",
       "      <td>5.0</td>\n",
       "      <td>0.0</td>\n",
       "      <td>92.0</td>\n",
       "    </tr>\n",
       "    <tr>\n",
       "      <th>3410</th>\n",
       "      <td>Sandy</td>\n",
       "      <td>8.0</td>\n",
       "      <td>0.0</td>\n",
       "      <td>16.0</td>\n",
       "      <td>0.0</td>\n",
       "      <td>1230.0</td>\n",
       "      <td>0.0</td>\n",
       "      <td>0.0</td>\n",
       "      <td>1254.0</td>\n",
       "    </tr>\n",
       "    <tr>\n",
       "      <th>3411</th>\n",
       "      <td>Sandy</td>\n",
       "      <td>2.0</td>\n",
       "      <td>1.0</td>\n",
       "      <td>0.0</td>\n",
       "      <td>0.0</td>\n",
       "      <td>8.0</td>\n",
       "      <td>0.0</td>\n",
       "      <td>0.0</td>\n",
       "      <td>11.0</td>\n",
       "    </tr>\n",
       "    <tr>\n",
       "      <th>3412</th>\n",
       "      <td>Sandy</td>\n",
       "      <td>0.0</td>\n",
       "      <td>0.0</td>\n",
       "      <td>0.0</td>\n",
       "      <td>0.0</td>\n",
       "      <td>0.0</td>\n",
       "      <td>0.0</td>\n",
       "      <td>0.0</td>\n",
       "      <td>0.0</td>\n",
       "    </tr>\n",
       "  </tbody>\n",
       "</table>\n",
       "<p>3413 rows × 9 columns</p>\n",
       "</div>"
      ],
      "text/plain": [
       "     BeachType  Sum of Glass/ceramics  Sum of Rubber  Sum of Cloth/textile  \\\n",
       "0        Sandy                   13.0            2.0                   2.0   \n",
       "1        Sandy                   17.0            3.0                  24.0   \n",
       "2        Sandy                   11.0            6.0                   3.0   \n",
       "3        Sandy                   47.0           12.0                  16.0   \n",
       "4          NaN                    7.0            7.0                   1.0   \n",
       "...        ...                    ...            ...                   ...   \n",
       "3408       NaN                   27.0            6.0                   4.0   \n",
       "3409       NaN                    1.0            2.0                   0.0   \n",
       "3410     Sandy                    8.0            0.0                  16.0   \n",
       "3411     Sandy                    2.0            1.0                   0.0   \n",
       "3412     Sandy                    0.0            0.0                   0.0   \n",
       "\n",
       "      Sum of Processed/worked wood  Sum of Plastic  Sum of Paper/Cardboard  \\\n",
       "0                              3.0           214.0                     6.0   \n",
       "1                             10.0           954.0                    43.0   \n",
       "2                              5.0           210.0                    19.0   \n",
       "3                              0.0          1022.0                    73.0   \n",
       "4                             22.0           506.0                    57.0   \n",
       "...                            ...             ...                     ...   \n",
       "3408                           0.0           392.0                    12.0   \n",
       "3409                           1.0            83.0                     5.0   \n",
       "3410                           0.0          1230.0                     0.0   \n",
       "3411                           0.0             8.0                     0.0   \n",
       "3412                           0.0             0.0                     0.0   \n",
       "\n",
       "      Sum of Metal  Total Sum  \n",
       "0              9.0      249.0  \n",
       "1             15.0     1066.0  \n",
       "2              8.0      262.0  \n",
       "3             33.0     1203.0  \n",
       "4             51.0      651.0  \n",
       "...            ...        ...  \n",
       "3408          11.0      452.0  \n",
       "3409           0.0       92.0  \n",
       "3410           0.0     1254.0  \n",
       "3411           0.0       11.0  \n",
       "3412           0.0        0.0  \n",
       "\n",
       "[3413 rows x 9 columns]"
      ]
     },
     "execution_count": 31,
     "metadata": {},
     "output_type": "execute_result"
    }
   ],
   "source": [
    "SUM_LIST = [\"BeachType\",'Sum of Glass/ceramics', 'Sum of Rubber','Sum of Cloth/textile','Sum of Processed/worked wood','Sum of Plastic','Sum of Paper/Cardboard' ,'Sum of Metal']\n",
    "SUM_LIST_NO_TYPE = ['Sum of Glass/ceramics', 'Sum of Rubber','Sum of Cloth/textile','Sum of Processed/worked wood','Sum of Plastic','Sum of Paper/Cardboard' ,'Sum of Metal']\n",
    "\n",
    "material_sums_only_df = material_df_by_beach_type[SUM_LIST]\n",
    "\n",
    "material_sums_only_df['Total Sum'] = material_sums_only_df[SUM_LIST_NO_TYPE].sum(axis=1)\n",
    "\n",
    "material_sums_only_df\n",
    "\n",
    "#Here, we can see total numbers"
   ]
  },
  {
   "cell_type": "code",
   "execution_count": 32,
   "id": "ecc1907b-e577-4d0d-ba52-8c15f88f461c",
   "metadata": {},
   "outputs": [
    {
     "data": {
      "text/html": [
       "<div>\n",
       "<style scoped>\n",
       "    .dataframe tbody tr th:only-of-type {\n",
       "        vertical-align: middle;\n",
       "    }\n",
       "\n",
       "    .dataframe tbody tr th {\n",
       "        vertical-align: top;\n",
       "    }\n",
       "\n",
       "    .dataframe thead th {\n",
       "        text-align: right;\n",
       "    }\n",
       "</style>\n",
       "<table border=\"1\" class=\"dataframe\">\n",
       "  <thead>\n",
       "    <tr style=\"text-align: right;\">\n",
       "      <th></th>\n",
       "      <th>BeachType</th>\n",
       "      <th>Sum of Glass/ceramics</th>\n",
       "      <th>Sum of Rubber</th>\n",
       "      <th>Sum of Cloth/textile</th>\n",
       "      <th>Sum of Processed/worked wood</th>\n",
       "      <th>Sum of Plastic</th>\n",
       "      <th>Sum of Paper/Cardboard</th>\n",
       "      <th>Sum of Metal</th>\n",
       "      <th>Total Sum</th>\n",
       "      <th>Percent Processed/worked wood</th>\n",
       "      <th>Percent Rubber</th>\n",
       "      <th>Percent Cloth/textile</th>\n",
       "      <th>Percent Plastic</th>\n",
       "      <th>Percent Metal</th>\n",
       "      <th>Percent Paper/Cardboard</th>\n",
       "      <th>Percent Glass/ceramics</th>\n",
       "    </tr>\n",
       "  </thead>\n",
       "  <tbody>\n",
       "    <tr>\n",
       "      <th>0</th>\n",
       "      <td>Sandy</td>\n",
       "      <td>13.0</td>\n",
       "      <td>2.0</td>\n",
       "      <td>2.0</td>\n",
       "      <td>3.0</td>\n",
       "      <td>214.0</td>\n",
       "      <td>6.0</td>\n",
       "      <td>9.0</td>\n",
       "      <td>249.0</td>\n",
       "      <td>1.204819</td>\n",
       "      <td>0.803213</td>\n",
       "      <td>0.803213</td>\n",
       "      <td>85.943775</td>\n",
       "      <td>3.614458</td>\n",
       "      <td>2.409639</td>\n",
       "      <td>5.220884</td>\n",
       "    </tr>\n",
       "    <tr>\n",
       "      <th>1</th>\n",
       "      <td>Sandy</td>\n",
       "      <td>17.0</td>\n",
       "      <td>3.0</td>\n",
       "      <td>24.0</td>\n",
       "      <td>10.0</td>\n",
       "      <td>954.0</td>\n",
       "      <td>43.0</td>\n",
       "      <td>15.0</td>\n",
       "      <td>1066.0</td>\n",
       "      <td>0.938086</td>\n",
       "      <td>0.281426</td>\n",
       "      <td>2.251407</td>\n",
       "      <td>89.493433</td>\n",
       "      <td>1.407129</td>\n",
       "      <td>4.033771</td>\n",
       "      <td>1.594747</td>\n",
       "    </tr>\n",
       "    <tr>\n",
       "      <th>2</th>\n",
       "      <td>Sandy</td>\n",
       "      <td>11.0</td>\n",
       "      <td>6.0</td>\n",
       "      <td>3.0</td>\n",
       "      <td>5.0</td>\n",
       "      <td>210.0</td>\n",
       "      <td>19.0</td>\n",
       "      <td>8.0</td>\n",
       "      <td>262.0</td>\n",
       "      <td>1.908397</td>\n",
       "      <td>2.290076</td>\n",
       "      <td>1.145038</td>\n",
       "      <td>80.152672</td>\n",
       "      <td>3.053435</td>\n",
       "      <td>7.251908</td>\n",
       "      <td>4.198473</td>\n",
       "    </tr>\n",
       "    <tr>\n",
       "      <th>3</th>\n",
       "      <td>Sandy</td>\n",
       "      <td>47.0</td>\n",
       "      <td>12.0</td>\n",
       "      <td>16.0</td>\n",
       "      <td>0.0</td>\n",
       "      <td>1022.0</td>\n",
       "      <td>73.0</td>\n",
       "      <td>33.0</td>\n",
       "      <td>1203.0</td>\n",
       "      <td>0.000000</td>\n",
       "      <td>0.997506</td>\n",
       "      <td>1.330008</td>\n",
       "      <td>84.954281</td>\n",
       "      <td>2.743142</td>\n",
       "      <td>6.068163</td>\n",
       "      <td>3.906899</td>\n",
       "    </tr>\n",
       "    <tr>\n",
       "      <th>4</th>\n",
       "      <td>NaN</td>\n",
       "      <td>7.0</td>\n",
       "      <td>7.0</td>\n",
       "      <td>1.0</td>\n",
       "      <td>22.0</td>\n",
       "      <td>506.0</td>\n",
       "      <td>57.0</td>\n",
       "      <td>51.0</td>\n",
       "      <td>651.0</td>\n",
       "      <td>3.379416</td>\n",
       "      <td>1.075269</td>\n",
       "      <td>0.153610</td>\n",
       "      <td>77.726575</td>\n",
       "      <td>7.834101</td>\n",
       "      <td>8.755760</td>\n",
       "      <td>1.075269</td>\n",
       "    </tr>\n",
       "    <tr>\n",
       "      <th>...</th>\n",
       "      <td>...</td>\n",
       "      <td>...</td>\n",
       "      <td>...</td>\n",
       "      <td>...</td>\n",
       "      <td>...</td>\n",
       "      <td>...</td>\n",
       "      <td>...</td>\n",
       "      <td>...</td>\n",
       "      <td>...</td>\n",
       "      <td>...</td>\n",
       "      <td>...</td>\n",
       "      <td>...</td>\n",
       "      <td>...</td>\n",
       "      <td>...</td>\n",
       "      <td>...</td>\n",
       "      <td>...</td>\n",
       "    </tr>\n",
       "    <tr>\n",
       "      <th>3408</th>\n",
       "      <td>NaN</td>\n",
       "      <td>27.0</td>\n",
       "      <td>6.0</td>\n",
       "      <td>4.0</td>\n",
       "      <td>0.0</td>\n",
       "      <td>392.0</td>\n",
       "      <td>12.0</td>\n",
       "      <td>11.0</td>\n",
       "      <td>452.0</td>\n",
       "      <td>0.000000</td>\n",
       "      <td>1.327434</td>\n",
       "      <td>0.884956</td>\n",
       "      <td>86.725664</td>\n",
       "      <td>2.433628</td>\n",
       "      <td>2.654867</td>\n",
       "      <td>5.973451</td>\n",
       "    </tr>\n",
       "    <tr>\n",
       "      <th>3409</th>\n",
       "      <td>NaN</td>\n",
       "      <td>1.0</td>\n",
       "      <td>2.0</td>\n",
       "      <td>0.0</td>\n",
       "      <td>1.0</td>\n",
       "      <td>83.0</td>\n",
       "      <td>5.0</td>\n",
       "      <td>0.0</td>\n",
       "      <td>92.0</td>\n",
       "      <td>1.086957</td>\n",
       "      <td>2.173913</td>\n",
       "      <td>0.000000</td>\n",
       "      <td>90.217391</td>\n",
       "      <td>0.000000</td>\n",
       "      <td>5.434783</td>\n",
       "      <td>1.086957</td>\n",
       "    </tr>\n",
       "    <tr>\n",
       "      <th>3410</th>\n",
       "      <td>Sandy</td>\n",
       "      <td>8.0</td>\n",
       "      <td>0.0</td>\n",
       "      <td>16.0</td>\n",
       "      <td>0.0</td>\n",
       "      <td>1230.0</td>\n",
       "      <td>0.0</td>\n",
       "      <td>0.0</td>\n",
       "      <td>1254.0</td>\n",
       "      <td>0.000000</td>\n",
       "      <td>0.000000</td>\n",
       "      <td>1.275917</td>\n",
       "      <td>98.086124</td>\n",
       "      <td>0.000000</td>\n",
       "      <td>0.000000</td>\n",
       "      <td>0.637959</td>\n",
       "    </tr>\n",
       "    <tr>\n",
       "      <th>3411</th>\n",
       "      <td>Sandy</td>\n",
       "      <td>2.0</td>\n",
       "      <td>1.0</td>\n",
       "      <td>0.0</td>\n",
       "      <td>0.0</td>\n",
       "      <td>8.0</td>\n",
       "      <td>0.0</td>\n",
       "      <td>0.0</td>\n",
       "      <td>11.0</td>\n",
       "      <td>0.000000</td>\n",
       "      <td>9.090909</td>\n",
       "      <td>0.000000</td>\n",
       "      <td>72.727273</td>\n",
       "      <td>0.000000</td>\n",
       "      <td>0.000000</td>\n",
       "      <td>18.181818</td>\n",
       "    </tr>\n",
       "    <tr>\n",
       "      <th>3412</th>\n",
       "      <td>Sandy</td>\n",
       "      <td>0.0</td>\n",
       "      <td>0.0</td>\n",
       "      <td>0.0</td>\n",
       "      <td>0.0</td>\n",
       "      <td>0.0</td>\n",
       "      <td>0.0</td>\n",
       "      <td>0.0</td>\n",
       "      <td>0.0</td>\n",
       "      <td>NaN</td>\n",
       "      <td>NaN</td>\n",
       "      <td>NaN</td>\n",
       "      <td>NaN</td>\n",
       "      <td>NaN</td>\n",
       "      <td>NaN</td>\n",
       "      <td>NaN</td>\n",
       "    </tr>\n",
       "  </tbody>\n",
       "</table>\n",
       "<p>3413 rows × 16 columns</p>\n",
       "</div>"
      ],
      "text/plain": [
       "     BeachType  Sum of Glass/ceramics  Sum of Rubber  Sum of Cloth/textile  \\\n",
       "0        Sandy                   13.0            2.0                   2.0   \n",
       "1        Sandy                   17.0            3.0                  24.0   \n",
       "2        Sandy                   11.0            6.0                   3.0   \n",
       "3        Sandy                   47.0           12.0                  16.0   \n",
       "4          NaN                    7.0            7.0                   1.0   \n",
       "...        ...                    ...            ...                   ...   \n",
       "3408       NaN                   27.0            6.0                   4.0   \n",
       "3409       NaN                    1.0            2.0                   0.0   \n",
       "3410     Sandy                    8.0            0.0                  16.0   \n",
       "3411     Sandy                    2.0            1.0                   0.0   \n",
       "3412     Sandy                    0.0            0.0                   0.0   \n",
       "\n",
       "      Sum of Processed/worked wood  Sum of Plastic  Sum of Paper/Cardboard  \\\n",
       "0                              3.0           214.0                     6.0   \n",
       "1                             10.0           954.0                    43.0   \n",
       "2                              5.0           210.0                    19.0   \n",
       "3                              0.0          1022.0                    73.0   \n",
       "4                             22.0           506.0                    57.0   \n",
       "...                            ...             ...                     ...   \n",
       "3408                           0.0           392.0                    12.0   \n",
       "3409                           1.0            83.0                     5.0   \n",
       "3410                           0.0          1230.0                     0.0   \n",
       "3411                           0.0             8.0                     0.0   \n",
       "3412                           0.0             0.0                     0.0   \n",
       "\n",
       "      Sum of Metal  Total Sum  Percent Processed/worked wood  Percent Rubber  \\\n",
       "0              9.0      249.0                       1.204819        0.803213   \n",
       "1             15.0     1066.0                       0.938086        0.281426   \n",
       "2              8.0      262.0                       1.908397        2.290076   \n",
       "3             33.0     1203.0                       0.000000        0.997506   \n",
       "4             51.0      651.0                       3.379416        1.075269   \n",
       "...            ...        ...                            ...             ...   \n",
       "3408          11.0      452.0                       0.000000        1.327434   \n",
       "3409           0.0       92.0                       1.086957        2.173913   \n",
       "3410           0.0     1254.0                       0.000000        0.000000   \n",
       "3411           0.0       11.0                       0.000000        9.090909   \n",
       "3412           0.0        0.0                            NaN             NaN   \n",
       "\n",
       "      Percent Cloth/textile  Percent Plastic  Percent Metal  \\\n",
       "0                  0.803213        85.943775       3.614458   \n",
       "1                  2.251407        89.493433       1.407129   \n",
       "2                  1.145038        80.152672       3.053435   \n",
       "3                  1.330008        84.954281       2.743142   \n",
       "4                  0.153610        77.726575       7.834101   \n",
       "...                     ...              ...            ...   \n",
       "3408               0.884956        86.725664       2.433628   \n",
       "3409               0.000000        90.217391       0.000000   \n",
       "3410               1.275917        98.086124       0.000000   \n",
       "3411               0.000000        72.727273       0.000000   \n",
       "3412                    NaN              NaN            NaN   \n",
       "\n",
       "      Percent Paper/Cardboard  Percent Glass/ceramics  \n",
       "0                    2.409639                5.220884  \n",
       "1                    4.033771                1.594747  \n",
       "2                    7.251908                4.198473  \n",
       "3                    6.068163                3.906899  \n",
       "4                    8.755760                1.075269  \n",
       "...                       ...                     ...  \n",
       "3408                 2.654867                5.973451  \n",
       "3409                 5.434783                1.086957  \n",
       "3410                 0.000000                0.637959  \n",
       "3411                 0.000000               18.181818  \n",
       "3412                      NaN                     NaN  \n",
       "\n",
       "[3413 rows x 16 columns]"
      ]
     },
     "execution_count": 32,
     "metadata": {},
     "output_type": "execute_result"
    }
   ],
   "source": [
    "#Now let's look at percents\n",
    "\n",
    "material_percs_df = material_sums_only_df\n",
    "\n",
    "for j in keys:\n",
    "        material_percs_df[\"Percent \" + j] = 100 * material_percs_df[\"Sum of \" + j] / material_percs_df[\"Total Sum\"]\n",
    "        \n",
    "material_percs_df"
   ]
  },
  {
   "cell_type": "code",
   "execution_count": 43,
   "id": "cf7c752b-885d-487f-8719-140f67b65bbe",
   "metadata": {},
   "outputs": [
    {
     "data": {
      "text/plain": [
       "array([[<AxesSubplot:title={'center':'Percent Plastic'}>]], dtype=object)"
      ]
     },
     "execution_count": 43,
     "metadata": {},
     "output_type": "execute_result"
    },
    {
     "data": {
      "image/png": "[encoded data removed]",
      "text/plain": [
       "<Figure size 432x288 with 1 Axes>"
      ]
     },
     "metadata": {
      "needs_background": "light"
     },
     "output_type": "display_data"
    }
   ],
   "source": [
    "perc_plast_by_beach_type = {}\n",
    "\n",
    "for i in types:\n",
    "    perc_plast_by_beach_type[i] = material_percs_df[material_percs_df['BeachType'] == i]\n",
    "    \n",
    "    \n",
    "sandydf = perc_plast_by_beach_type[\"Sandy\"]\n",
    "sandydf.hist(column = 'Percent Plastic', bins=12, legend=True)"
   ]
  },
  {
   "cell_type": "markdown",
   "id": "8d449235-f865-418b-89b1-d99e1219da16",
   "metadata": {},
   "source": [
    "#### Sandy ^"
   ]
  },
  {
   "cell_type": "code",
   "execution_count": 44,
   "id": "34be28ec-181e-44a0-8513-ae1632ad5874",
   "metadata": {},
   "outputs": [
    {
     "data": {
      "text/plain": [
       "array([[<AxesSubplot:title={'center':'Percent Plastic'}>]], dtype=object)"
      ]
     },
     "execution_count": 44,
     "metadata": {},
     "output_type": "execute_result"
    },
    {
     "data": {
      "image/png": "[encoded data removed]",
      "text/plain": [
       "<Figure size 432x288 with 1 Axes>"
      ]
     },
     "metadata": {
      "needs_background": "light"
     },
     "output_type": "display_data"
    }
   ],
   "source": [
    "rockydf = perc_plast_by_beach_type[\"Rocky\"]\n",
    "rockydf.hist(column = 'Percent Plastic', bins=12, legend=True)\n"
   ]
  },
  {
   "cell_type": "markdown",
   "id": "39e7a68e-d345-45e6-92ed-82fdeae01548",
   "metadata": {},
   "source": [
    "#### Rocky ^"
   ]
  },
  {
   "cell_type": "code",
   "execution_count": 45,
   "id": "78f6b199-5453-4419-99ea-3e369a2bf1ca",
   "metadata": {},
   "outputs": [
    {
     "data": {
      "text/plain": [
       "array([[<AxesSubplot:title={'center':'Percent Plastic'}>]], dtype=object)"
      ]
     },
     "execution_count": 45,
     "metadata": {},
     "output_type": "execute_result"
    },
    {
     "data": {
      "image/png": "[encoded data removed]",
      "text/plain": [
       "<Figure size 432x288 with 1 Axes>"
      ]
     },
     "metadata": {
      "needs_background": "light"
     },
     "output_type": "display_data"
    }
   ],
   "source": [
    "pebbeldf = perc_plast_by_beach_type[\"Pebbels\"]\n",
    "pebbeldf.hist(column = 'Percent Plastic', bins=12, legend=True)"
   ]
  },
  {
   "cell_type": "markdown",
   "id": "39f58409-4815-4091-8f61-80ee42884c05",
   "metadata": {},
   "source": [
    "#### Pebbels ^"
   ]
  },
  {
   "cell_type": "code",
   "execution_count": 46,
   "id": "ecec622a-4116-4d14-b438-ed4e4204a675",
   "metadata": {},
   "outputs": [
    {
     "data": {
      "text/plain": [
       "array([[<AxesSubplot:title={'center':'Percent Plastic'}>]], dtype=object)"
      ]
     },
     "execution_count": 46,
     "metadata": {},
     "output_type": "execute_result"
    },
    {
     "data": {
      "image/png": "[encoded data removed]",
      "text/plain": [
       "<Figure size 432x288 with 1 Axes>"
      ]
     },
     "metadata": {
      "needs_background": "light"
     },
     "output_type": "display_data"
    }
   ],
   "source": [
    "otherdf = perc_plast_by_beach_type[\"Other (mixed)\"]\n",
    "otherdf.hist(column = 'Percent Plastic', bins=12, legend=True)"
   ]
  },
  {
   "cell_type": "markdown",
   "id": "05567efc-0a9b-4088-bd88-fb70c7ce5481",
   "metadata": {},
   "source": [
    "#### Other (mixed) ^"
   ]
  },
  {
   "cell_type": "code",
   "execution_count": 54,
   "id": "49ede746-7e9b-4801-a798-9e0c11491c2f",
   "metadata": {},
   "outputs": [
    {
     "data": {
      "text/plain": [
       "KruskalResult(statistic=203.27138315917423, pvalue=8.284744965444178e-44)"
      ]
     },
     "execution_count": 54,
     "metadata": {},
     "output_type": "execute_result"
    }
   ],
   "source": [
    "rockydistplast = perc_plast_by_beach_type['Rocky']['Percent Plastic']\n",
    "sandydistplast = perc_plast_by_beach_type['Sandy']['Percent Plastic']\n",
    "\n",
    "pebbeldistplast = perc_plast_by_beach_type['Pebbels']['Percent Plastic']\n",
    "otherdistplast = perc_plast_by_beach_type['Other (mixed)']['Percent Plastic']\n",
    "\n",
    "stats.kruskal(rockydistplast, sandydistplast, pebbeldistplast, otherdistplast, nan_policy='omit')"
   ]
  },
  {
   "cell_type": "markdown",
   "id": "56e808f0-fb83-427e-a5cf-690b6ce76603",
   "metadata": {},
   "source": [
    "### Finding:\n",
    "The p value from this Kruskal Wallis test tells us that the percentage of plastic found at specific type of beach is significantly different from the amount of plastic found at other types of beaches."
   ]
  },
  {
   "cell_type": "markdown",
   "id": "9984d9a8-ab76-4b89-9514-ae5bf54d509b",
   "metadata": {},
   "source": [
    "## Results\n",
    "\n",
    "I am unable to draw any conclusions from my (limited) exploration of the data as to whether the COVID-19 pandemic affected the amount of plastic debris found on beaches.\n",
    "\n",
    "From this exploration we can conclude that different types of beaches collect debris that differ in both size and material, though more research is needed for a more in depth understanding\n",
    "\n",
    "Additionally, my exploration did draw attention to the shear volume of plastic (and other) waste that accumulates on beaches: most cleanups recovered hundreds of plastic items and pieces in a single day!"
   ]
  },
  {
   "cell_type": "markdown",
   "id": "be42572d-2163-4672-8209-45822f14e3e3",
   "metadata": {},
   "source": [
    "## Ethical Concerns\n",
    "\n",
    "An ethical concern of researching how trash accumulates differently on different types of beaches (sandy vs rocky) could potentially result in a specific type of beach being neglected in order to focus on the other type. My exploration did not lead me to conclude specifically which type of beachs accumulates more plastic, but further explorations could.\n",
    "\n",
    "Additionally, my analysis could potentially be used to assert that individuals are responsible for pollution, rather than corporations. Personally I think that personal actions like using a reusable waterbottle and buying things used rather than new are important and valuable, but placing responsibility exclusively on consumers is definitely problematic."
   ]
  },
  {
   "cell_type": "markdown",
   "id": "66421a25-1cf9-4ebc-8cd4-43161500545d",
   "metadata": {},
   "source": [
    "## Important Considerations:\n",
    "\n",
    "\"When a measure becomes a target, it ceases to be a good measure\" (https://en.wikipedia.org/wiki/Goodhart%27s_law)\n",
    "\n",
    "It is important to note that the goal of a cleanup is to remove as much trash from the environment as possible, so high numbers of items recovered is a successful cleanup. We should not aim for no plastic being recovered at a cleanup - that could mean no clean ups altogether, and even more plastic in the waterways and surrounding areas."
   ]
  },
  {
   "cell_type": "markdown",
   "id": "084dc8c0-64f3-453a-97d4-0809ab61481d",
   "metadata": {},
   "source": [
    "## Sources\n",
    "\n",
    "[1] https://www.sciencehistory.org/the-history-and-future-of-plastics\n",
    "\n",
    "[2] https://www.statista.com/statistics/282732/global-production-of-plastics-since-1950/\n",
    "\n",
    "[3] https://www.condorferries.co.uk/plastic-in-the-ocean-statistics#:~:text=There%20is%20now%205.25%20trillion,their%20way%20into%20our%20oceans.\n",
    "\n",
    "[4] https://pubs.acs.org/doi/10.1021/es400663f\n",
    "\n",
    "[5] https://www.blueoceansociety.org/blog/how-does-ocean-plastic-affect-whales/\n",
    "\n",
    "[6] https://www.maritime-executive.com/editorials/the-fish-we-eat-are-eating-plastic#:~:text=Our%20research%20revealed%20that%20marine,those%20species%20had%20ingested%20plastic.\n",
    "\n",
    "[7] https://www.biologicaldiversity.org/campaigns/ocean_plastics/#:~:text=Thousands%20of%20seabirds%20and%20sea,get%20caught%20in%20plastic%20litter.\n",
    "\n",
    "[8] https://www.howitworksdaily.com/why-do-some-beaches-have-sand-and-others-have-pebbles/#:~:text=Higher%2Denergy%20beaches%20are%20often,as%20pebbles%20or%20even%20boulders.&text=The%20chalk%20is%20dissolved%20in,gives%20us%20the%20pebbly%20beaches\n",
    "\n",
    "[9] https://www.ncbi.nlm.nih.gov/pmc/articles/PMC7269931/#:~:text=The%20COVID%2D19%20pandemic%20and,the%20store%20comes%20to%20home"
   ]
  },
  {
   "cell_type": "code",
   "execution_count": null,
   "id": "89c9b92e-4768-4186-99e3-bdee55d03ff5",
   "metadata": {},
   "outputs": [],
   "source": []
  }
 ],
 "metadata": {
  "kernelspec": {
   "display_name": "Python 3",
   "language": "python",
   "name": "python3"
  },
  "language_info": {
   "codemirror_mode": {
    "name": "ipython",
    "version": 3
   },
   "file_extension": ".py",
   "mimetype": "text/x-python",
   "name": "python",
   "nbconvert_exporter": "python",
   "pygments_lexer": "ipython3",
   "version": "3.9.1"
  }
 },
 "nbformat": 4,
 "nbformat_minor": 5
}
